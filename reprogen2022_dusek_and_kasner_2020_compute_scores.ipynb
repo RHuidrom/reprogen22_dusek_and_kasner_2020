{
  "cells": [
    {
      "cell_type": "markdown",
      "source": [
        "Calculation of CV*, Pearson's r and Krippendorff's alpha for Reprogen 2022 paper titled, \"Two Reproductions of a Human-Assessed Comparative Evaluation of a Semantic Error Detection System\"."
      ],
      "metadata": {
        "id": "yPzVtDglcQ5Z"
      }
    },
    {
      "cell_type": "code",
      "execution_count": 41,
      "metadata": {
        "id": "kz7WQXJZjGUo"
      },
      "outputs": [],
      "source": [
        "import numpy as np\n",
        "import csv\n",
        "import matplotlib.pyplot as plt\n",
        "import scipy.stats as stats\n",
        "import pandas as pd\n",
        "\n",
        "%matplotlib inline"
      ]
    },
    {
      "cell_type": "code",
      "execution_count": 42,
      "metadata": {
        "id": "9X93rPBwjGUs",
        "colab": {
          "base_uri": "https://localhost:8080/"
        },
        "outputId": "69af244b-ab4e-49f8-b9cd-533dc3b866f1"
      },
      "outputs": [
        {
          "output_type": "stream",
          "name": "stdout",
          "text": [
            "0.9993216505720215 0.9483221129282879 0.9593644138891955\n"
          ]
        }
      ],
      "source": [
        "# Calculation of Pearson's r.\n",
        "\n",
        "err_orig = [34, 45, 18] #e2e - correctness - orig\n",
        "err_repro1 = [36, 48, 16] #e2e - correctness - OD + ZK\n",
        "err_repro2 = [41, 44, 15] #e2e - correctness - AB + TCF\n",
        "\n",
        "r1 = stats.pearsonr(err_orig,err_repro1)\n",
        "r2 = stats.pearsonr(err_orig,err_repro2)\n",
        "r3 = stats.pearsonr(err_repro1,err_repro2)\n",
        "\n",
        "print(r1[0], r2[0], r3[0])"
      ]
    },
    {
      "cell_type": "code",
      "source": [
        "err_orig = [5, 30, 10, 8, 16, 17] #e2e - error classes - orig\n",
        "err_repro1 = [6, 33, 13, 5, 11, 20] #e2e - error classes - OD + ZK\n",
        "err_repro2 = [6, 28, 8, 22, 24, 8] #e2e - error classes - AB + TCF\n",
        "\n",
        "r1 = stats.pearsonr(err_orig,err_repro1)\n",
        "r2 = stats.pearsonr(err_orig,err_repro2)\n",
        "r3 = stats.pearsonr(err_repro1,err_repro2)\n",
        "\n",
        "print(r1[0], r2[0], r3[0])"
      ],
      "metadata": {
        "colab": {
          "base_uri": "https://localhost:8080/"
        },
        "id": "IYgHRyP-X8V6",
        "outputId": "974ba5cb-a7f1-473c-9b32-a1a3b5ea5065"
      },
      "execution_count": 43,
      "outputs": [
        {
          "output_type": "stream",
          "name": "stdout",
          "text": [
            "0.9470305356573966 0.6203548025812703 0.37313382947414697\n"
          ]
        }
      ]
    },
    {
      "cell_type": "code",
      "source": [
        "err_orig = [51, 42, 7] #webnlg - correctness - orig\n",
        "err_repro1 = [38, 40, 15] #webnlg - correctness - OD + ZK\n",
        "err_repro2 = [59, 35, 6] #webnlg - correctness - AB + TCF\n",
        "\n",
        "r1 = stats.pearsonr(err_orig,err_repro1)\n",
        "r2 = stats.pearsonr(err_orig,err_repro2)\n",
        "r3 = stats.pearsonr(err_repro1,err_repro2)\n",
        "\n",
        "print(r1[0], r2[0], r3[0])"
      ],
      "metadata": {
        "colab": {
          "base_uri": "https://localhost:8080/"
        },
        "id": "9IURvG_iXxaQ",
        "outputId": "fdf4ef17-a918-43d0-a698-f7d5507baa08"
      },
      "execution_count": 44,
      "outputs": [
        {
          "output_type": "stream",
          "name": "stdout",
          "text": [
            "0.9646027959825653 0.9625971482855068 0.857075946458389\n"
          ]
        }
      ]
    },
    {
      "cell_type": "code",
      "source": [
        "err_orig = [22, 7, 14, 8, 15] #webnlg - error classes - orig\n",
        "err_repro1 = [16, 3, 27, 25, 19] #webnlg - error classes - OD + ZK\n",
        "err_repro2 = [5,10,10,28,12] #webnlg - error classes - AB + TCF\n",
        "\n",
        "r1 = stats.pearsonr(err_orig,err_repro1)\n",
        "r2 = stats.pearsonr(err_orig,err_repro2)\n",
        "r3 = stats.pearsonr(err_repro1,err_repro2)\n",
        "\n",
        "print(r1[0], r2[0], r3[0])"
      ],
      "metadata": {
        "colab": {
          "base_uri": "https://localhost:8080/"
        },
        "id": "HtPI6vbvX5yH",
        "outputId": "0614dec1-8909-40d5-b834-fbe9f606f8b6"
      },
      "execution_count": 45,
      "outputs": [
        {
          "output_type": "stream",
          "name": "stdout",
          "text": [
            "0.20879830038875216 -0.6301826067407483 0.4144312328399571\n"
          ]
        }
      ]
    },
    {
      "cell_type": "code",
      "source": [
        "!pip3 install krippendorff"
      ],
      "metadata": {
        "colab": {
          "base_uri": "https://localhost:8080/"
        },
        "id": "iY1NffEYkp8j",
        "outputId": "f90bb2c7-e51e-462a-999d-c8b9c81d46ac"
      },
      "execution_count": 46,
      "outputs": [
        {
          "output_type": "stream",
          "name": "stdout",
          "text": [
            "Looking in indexes: https://pypi.org/simple, https://us-python.pkg.dev/colab-wheels/public/simple/\n",
            "Requirement already satisfied: krippendorff in /usr/local/lib/python3.7/dist-packages (0.5.1)\n",
            "Requirement already satisfied: numpy in /usr/local/lib/python3.7/dist-packages (from krippendorff) (1.21.6)\n"
          ]
        }
      ]
    },
    {
      "cell_type": "code",
      "source": [
        "# code copied from krippendorff_alpha.py at https://github.com/grrrr/krippendorff-alpha/blob/master/krippendorff_alpha.py\n",
        "\n",
        "# Calculation of Krippendorff's alpha.\n",
        "\n",
        "from __future__ import print_function\n",
        "try:\n",
        "    import numpy as np\n",
        "except ImportError:\n",
        "    np = None\n",
        "\n",
        "\n",
        "def nominal_metric(a, b):\n",
        "    return a != b\n",
        "\n",
        "\n",
        "def interval_metric(a, b):\n",
        "    return (a-b)**2\n",
        "\n",
        "\n",
        "def ratio_metric(a, b):\n",
        "    return ((a-b)/(a+b))**2\n",
        "\n",
        "\n",
        "def krippendorff_alpha(data, metric=interval_metric, force_vecmath=False, convert_items=float, missing_items=None):\n",
        "    '''\n",
        "    Calculate Krippendorff's alpha (inter-rater reliability):\n",
        "    \n",
        "    data is in the format\n",
        "    [\n",
        "        {unit1:value, unit2:value, ...},  # coder 1\n",
        "        {unit1:value, unit3:value, ...},   # coder 2\n",
        "        ...                            # more coders\n",
        "    ]\n",
        "    or \n",
        "    it is a sequence of (masked) sequences (list, numpy.array, numpy.ma.array, e.g.) with rows corresponding to coders and columns to items\n",
        "    \n",
        "    metric: function calculating the pairwise distance\n",
        "    force_vecmath: force vector math for custom metrics (numpy required)\n",
        "    convert_items: function for the type conversion of items (default: float)\n",
        "    missing_items: indicator for missing items (default: None)\n",
        "    '''\n",
        "    \n",
        "    # number of coders\n",
        "    m = len(data)\n",
        "    \n",
        "    # set of constants identifying missing values\n",
        "    if missing_items is None:\n",
        "        maskitems = []\n",
        "    else:\n",
        "        maskitems = list(missing_items)\n",
        "    if np is not None:\n",
        "        maskitems.append(np.ma.masked_singleton)\n",
        "    \n",
        "    # convert input data to a dict of items\n",
        "    units = {}\n",
        "    for d in data:\n",
        "        try:\n",
        "            # try if d behaves as a dict\n",
        "            diter = d.items()\n",
        "        except AttributeError:\n",
        "            # sequence assumed for d\n",
        "            diter = enumerate(d)\n",
        "            \n",
        "        for it, g in diter:\n",
        "            if g not in maskitems:\n",
        "                try:\n",
        "                    its = units[it]\n",
        "                except KeyError:\n",
        "                    its = []\n",
        "                    units[it] = its\n",
        "                its.append(convert_items(g))\n",
        "\n",
        "\n",
        "    units = dict((it, d) for it, d in units.items() if len(d) > 1)  # units with pairable values\n",
        "    n = sum(len(pv) for pv in units.values())  # number of pairable values\n",
        "    \n",
        "    if n == 0:\n",
        "        raise ValueError(\"No items to compare.\")\n",
        "    \n",
        "    np_metric = (np is not None) and ((metric in (interval_metric, nominal_metric, ratio_metric)) or force_vecmath)\n",
        "    \n",
        "    Do = 0.\n",
        "    for grades in units.values():\n",
        "        if np_metric:\n",
        "            gr = np.asarray(grades)\n",
        "            Du = sum(np.sum(metric(gr, gri)) for gri in gr)\n",
        "        else:\n",
        "            Du = sum(metric(gi, gj) for gi in grades for gj in grades)\n",
        "        Do += Du/float(len(grades)-1)\n",
        "    Do /= float(n)\n",
        "\n",
        "    if Do == 0:\n",
        "        return 1.\n",
        "\n",
        "    De = 0.\n",
        "    for g1 in units.values():\n",
        "        if np_metric:\n",
        "            d1 = np.asarray(g1)\n",
        "            for g2 in units.values():\n",
        "                De += sum(np.sum(metric(d1, gj)) for gj in g2)\n",
        "        else:\n",
        "            for g2 in units.values():\n",
        "                De += sum(metric(gi, gj) for gi in g1 for gj in g2)\n",
        "    De /= float(n*(n-1))\n",
        "\n",
        "    return 1.-Do/De if (Do and De) else 1.\n",
        "\n"
      ],
      "metadata": {
        "id": "0W-h0421U5Z9"
      },
      "execution_count": 47,
      "outputs": []
    },
    {
      "cell_type": "code",
      "source": [
        "# Calculation of krippendorf's alpha - E2E all\n",
        "\n",
        "if __name__ == '__main__': \n",
        "\n",
        "    # E2E data for krippendorff's alpha calculation\n",
        "\n",
        "    data = (\n",
        "        \"0    0    0    0    0    0    0    1    0    0    0    0    0    0    0    0    0    0    0    0    0    0    0    0    0    0    0    0    0    0    0    0    0    0    0    0    0    1    0    0    0    0    1    0    0    0    0    0    0    0    0    0    0    0    0    0    0    0    0    0    0    0    0    0    0    0    0    0    0    0    0    0    0    0    0    0    0    0    0    0    0    0    0    0    0    0    0    1    0    0    0    0    1    0    0    0    0    0    0    0    0    0    0    0    0    2    2    0    2    0    0    0    0    2    0    0    2    0    0    0    0    0    0    0    0    0    0    2    0    2    0    2    2    2    0    0    0    0    2    0    2    2    0    0    0    0    0    2    0    2    0    0    0    2    2    0    2    0    0    0    0    0    0    0    2    0    2    2    2    0    0    0    0    0    0    0    0    2    0    0    2    2    0    2    0    0    0    0    0    0    0    2    0    0    2    0    0    0    2    2    0    0    0    0    0    0    0    0    0    0    0    0    0    0    0    0    0    0    0    0    0    0    0    0    0    0    0    0    0    0    0    0    0    0    0    3    0    0    0    0    0    0    0    0    3    0    0    0    0    0    0    0    0    0    0    0    0    0    3    0    0    0    0    0    0    0    0    0    0    0    3    0    0    0    0    3    3    0    0    0    0    0    0    0    0    0    0    0    3    0    3    0    0    0    0    0    3    3    0    0    0    4    0    0    0    0    0    0    0    0    0    4    4    0    0    0    0    0    0    0    0    0    0    0    0    0    4    0    0    0    0    0    0    0    0    0    0    0    0    0    0    0    0    0    0    0    0    0    4    0    0    0    4    0    0    0    0    0    0    0    0    4    0    0    0    0    0    0    0    0    0    0    0    0    0    0    0    0    0    0    0    0    0    0    0    0    4    0    0    0    0    0    0    0    0    0    0    0    0    0    5    0    0    0    0    0    0    0    0    5    0    0    0    0    0    5    0    5    0    5    0    0    0    0    0    0    0    0    0    0    0    0    0    0    0    0    0    0    0    0    0    0    0    0    0    5    5    0    0    0    0    0    0    0    0    5    0    0    0    0    0    0    5    0    0    5    0    0    0    0    5    5    0    0    0    0    5    0    0    0    0    0    0    0    0    0    0    0    5    0    5    0    0    0    0    0    5    0    0    0    0    0    6    0    0    0    0    0    0    0    6    0    0    0    0    0    0    0    6    0    0    6    0    0    0    6    0    0    6    0    0    0    0    0    6    0    0    0    0    0    0    0    0    0    0    0    0    0    0    0    6    0    0    0    0    0    0    6    0    6    6    0    0    0    0    0    0    0    0    6    0    0    0    0    6    0    0    0    0    6    0    0    6    0    6    0    0    0    0    0    0    0    0    0    0    0    6    0    0    0\", #orig\n",
        "        \"0    0    0    0    0    0    0    1    0    0    0    0    0    0    0    0    0    0    0    0    0    0    1    0    0    0    0    0    0    0    0    0    0    0    0    0    0    1    0    0    0    0    1    0    0    0    0    0    0    0    0    0    0    0    0    0    0    0    0    0    0    0    0    0    0    0    0    0    0    0    0    0    0    0    0    0    0    0    0    0    0    0    0    0    0    0    0    1    0    0    0    0    0    1    0    0    0    0    0    0    2    0    0    2    0    2    2    0    2    0    0    0    0    2    0    0    2    0    0    0    0    0    0    0    2    0    0    2    0    2    0    2    2    2    0    0    0    0    2    2    2    2    0    0    0    0    0    2    0    2    0    0    0    2    2    0    2    0    0    0    0    0    0    0    2    0    2    2    2    0    0    0    0    2    0    0    0    0    0    0    2    2    0    2    0    2    0    0    0    0    0    2    0    0    2    0    0    0    0    0    0    0    0    0    0    0    0    0    0    0    0    3    0    0    0    3    0    3    0    0    0    3    0    0    0    0    0    0    0    0    0    0    0    0    0    3    0    0    0    0    0    0    0    0    3    0    0    0    0    0    0    0    0    0    0    3    0    0    3    0    0    0    0    0    0    0    0    0    0    0    3    3    0    0    0    3    0    0    0    0    0    0    0    0    0    0    0    0    3    0    3    0    0    0    0    0    0    0    0    0    0    4    0    0    0    0    0    0    0    0    0    0    4    0    0    0    0    0    0    0    0    0    0    0    0    0    0    0    0    0    0    0    0    0    0    0    0    0    0    0    0    0    0    0    0    0    0    0    4    0    0    0    0    0    0    0    0    0    0    0    0    4    0    0    0    0    0    0    0    0    0    0    0    0    0    0    0    0    0    0    0    0    0    0    0    0    4    0    0    0    0    0    0    0    0    0    0    0    0    0    0    0    0    0    0    0    0    0    0    5    0    0    0    0    5    0    0    0    0    5    0    0    0    0    0    0    0    0    0    0    0    0    0    0    0    0    0    0    0    0    0    0    0    0    0    5    5    0    0    0    0    0    0    0    0    0    0    0    0    0    0    0    5    0    0    5    0    0    0    0    0    0    0    0    0    0    5    0    0    0    0    0    0    0    0    0    0    0    0    0    0    0    5    0    0    0    5    0    0    5    0    0    6    0    0    0    0    0    0    0    6    0    0    0    0    0    0    0    6    0    6    0    0    0    0    6    0    0    6    0    0    0    0    0    6    0    0    0    0    0    0    0    0    0    0    0    0    0    0    0    6    0    0    0    0    0    0    6    0    6    6    0    0    0    0    0    0    0    0    6    0    0    0    0    6    0    0    0    0    6    0    0    6    0    0    0    0    0    0    6    0    0    0    0    0    6    6    0    6    6\", #OD + ZK\n",
        "        \"0    0    0    0    0    0    0    0    0    0    0    0    0    0    0    0    0    0    0    0    0    0    1    0    0    0    0    0    0    0    0    0    0    0    0    0    0    0    0    0    0    0    1    0    0    0    0    0    0    0    0    0    1    0    0    0    0    0    0    0    0    0    0    0    0    0    0    0    0    0    0    0    0    0    0    0    0    0    0    0    0    0    0    0    0    0    0    0    0    1    0    0    1    1    0    0    0    0    0    0    0    0    0    0    2    2    2    0    2    0    0    0    0    2    2    0    2    0    0    0    0    0    0    2    0    0    0    0    0    0    2    2    2    2    0    0    0    0    0    0    2    2    0    2    0    0    0    0    0    0    0    0    0    0    0    0    2    0    0    0    0    2    0    2    0    0    0    0    0    0    0    0    2    0    0    0    0    2    2    0    2    2    0    0    0    2    0    0    0    0    2    2    0    0    2    0    0    0    2    0    0    0    0    0    0    0    0    0    0    0    0    3    0    0    0    0    0    0    0    0    0    0    0    0    0    0    0    0    0    0    0    0    0    0    0    3    0    0    0    0    0    0    0    0    3    0    0    0    0    0    0    3    0    0    0    3    0    0    3    0    0    0    0    0    0    0    0    0    0    0    3    0    0    0    0    0    0    0    0    0    0    0    0    0    0    0    0    0    0    0    0    0    0    0    0    0    0    3    0    0    0    4    0    0    4    0    0    4    0    0    0    0    4    0    0    0    0    0    0    0    0    0    0    4    0    0    0    0    0    0    4    0    0    0    0    4    4    0    0    0    0    0    0    4    4    0    0    0    4    0    0    4    0    0    0    4    0    0    4    0    0    0    0    0    0    0    0    0    0    0    0    0    4    0    0    4    0    4    4    0    0    0    0    0    0    0    4    4    0    0    4    0    0    0    0    0    0    4    0    0    0    0    0    5    0    5    5    0    5    0    0    0    0    5    0    5    5    0    0    5    0    0    0    0    5    0    5    0    0    0    0    5    5    5    0    0    0    5    0    0    5    5    0    0    0    0    5    0    0    0    0    0    0    0    0    0    5    0    0    0    0    0    0    5    0    0    0    0    0    0    0    0    0    0    0    0    0    0    0    0    5    5    0    0    0    0    0    0    0    0    5    5    0    0    5    0    0    0    0    0    0    0    0    0    0    0    0    0    0    0    6    0    0    0    0    0    0    0    6    0    6    0    0    0    0    0    6    0    6    0    0    0    0    0    0    0    0    0    0    0    0    0    0    0    0    0    0    0    0    0    0    0    0    0    0    0    0    0    0    6    0    0    0    6    0    0    0    0    0    0    0    0    0    0    0    0    0    0    0    0    0    0    0    0    6    0    0    0    0    0    0    0    0    0    0    0    0    0    0    0\", #AB + TCF\n",
        "        )\n",
        "\n",
        "    missing = '*' # indicator for missing values\n",
        "    array = [d.split() for d in data]  # convert to 2D list of string items\n",
        "    #print(array)\n",
        "    \n",
        "    print(\"nominal metric: %.3f\" % krippendorff_alpha(array, nominal_metric, missing_items=missing))\n",
        "    print(\"interval metric: %.3f\" % krippendorff_alpha(array, interval_metric, missing_items=missing))"
      ],
      "metadata": {
        "colab": {
          "base_uri": "https://localhost:8080/"
        },
        "id": "WRGR7gYmZeQs",
        "outputId": "653cf6ee-e094-4f92-9673-6aacd373f80a"
      },
      "execution_count": 48,
      "outputs": [
        {
          "output_type": "stream",
          "name": "stdout",
          "text": [
            "nominal metric: 0.467\n",
            "interval metric: 0.378\n"
          ]
        }
      ]
    },
    {
      "cell_type": "code",
      "source": [
        "# Calculation of krippendorf's alpha - E2E orig vs OD + ZK\n",
        "\n",
        "if __name__ == '__main__': \n",
        "    \n",
        "    # E2E data for krippendorff's alpha calculation\n",
        "\n",
        "    data = (\n",
        "        \"0    0    0    0    0    0    0    1    0    0    0    0    0    0    0    0    0    0    0    0    0    0    0    0    0    0    0    0    0    0    0    0    0    0    0    0    0    1    0    0    0    0    1    0    0    0    0    0    0    0    0    0    0    0    0    0    0    0    0    0    0    0    0    0    0    0    0    0    0    0    0    0    0    0    0    0    0    0    0    0    0    0    0    0    0    0    0    1    0    0    0    0    1    0    0    0    0    0    0    0    0    0    0    0    0    2    2    0    2    0    0    0    0    2    0    0    2    0    0    0    0    0    0    0    0    0    0    2    0    2    0    2    2    2    0    0    0    0    2    0    2    2    0    0    0    0    0    2    0    2    0    0    0    2    2    0    2    0    0    0    0    0    0    0    2    0    2    2    2    0    0    0    0    0    0    0    0    2    0    0    2    2    0    2    0    0    0    0    0    0    0    2    0    0    2    0    0    0    2    2    0    0    0    0    0    0    0    0    0    0    0    0    0    0    0    0    0    0    0    0    0    0    0    0    0    0    0    0    0    0    0    0    0    0    0    3    0    0    0    0    0    0    0    0    3    0    0    0    0    0    0    0    0    0    0    0    0    0    3    0    0    0    0    0    0    0    0    0    0    0    3    0    0    0    0    3    3    0    0    0    0    0    0    0    0    0    0    0    3    0    3    0    0    0    0    0    3    3    0    0    0    4    0    0    0    0    0    0    0    0    0    4    4    0    0    0    0    0    0    0    0    0    0    0    0    0    4    0    0    0    0    0    0    0    0    0    0    0    0    0    0    0    0    0    0    0    0    0    4    0    0    0    4    0    0    0    0    0    0    0    0    4    0    0    0    0    0    0    0    0    0    0    0    0    0    0    0    0    0    0    0    0    0    0    0    0    4    0    0    0    0    0    0    0    0    0    0    0    0    0    5    0    0    0    0    0    0    0    0    5    0    0    0    0    0    5    0    5    0    5    0    0    0    0    0    0    0    0    0    0    0    0    0    0    0    0    0    0    0    0    0    0    0    0    0    5    5    0    0    0    0    0    0    0    0    5    0    0    0    0    0    0    5    0    0    5    0    0    0    0    5    5    0    0    0    0    5    0    0    0    0    0    0    0    0    0    0    0    5    0    5    0    0    0    0    0    5    0    0    0    0    0    6    0    0    0    0    0    0    0    6    0    0    0    0    0    0    0    6    0    0    6    0    0    0    6    0    0    6    0    0    0    0    0    6    0    0    0    0    0    0    0    0    0    0    0    0    0    0    0    6    0    0    0    0    0    0    6    0    6    6    0    0    0    0    0    0    0    0    6    0    0    0    0    6    0    0    0    0    6    0    0    6    0    6    0    0    0    0    0    0    0    0    0    0    0    6    0    0    0\", #orig\n",
        "        \"0    0    0    0    0    0    0    1    0    0    0    0    0    0    0    0    0    0    0    0    0    0    1    0    0    0    0    0    0    0    0    0    0    0    0    0    0    1    0    0    0    0    1    0    0    0    0    0    0    0    0    0    0    0    0    0    0    0    0    0    0    0    0    0    0    0    0    0    0    0    0    0    0    0    0    0    0    0    0    0    0    0    0    0    0    0    0    1    0    0    0    0    0    1    0    0    0    0    0    0    2    0    0    2    0    2    2    0    2    0    0    0    0    2    0    0    2    0    0    0    0    0    0    0    2    0    0    2    0    2    0    2    2    2    0    0    0    0    2    2    2    2    0    0    0    0    0    2    0    2    0    0    0    2    2    0    2    0    0    0    0    0    0    0    2    0    2    2    2    0    0    0    0    2    0    0    0    0    0    0    2    2    0    2    0    2    0    0    0    0    0    2    0    0    2    0    0    0    0    0    0    0    0    0    0    0    0    0    0    0    0    3    0    0    0    3    0    3    0    0    0    3    0    0    0    0    0    0    0    0    0    0    0    0    0    3    0    0    0    0    0    0    0    0    3    0    0    0    0    0    0    0    0    0    0    3    0    0    3    0    0    0    0    0    0    0    0    0    0    0    3    3    0    0    0    3    0    0    0    0    0    0    0    0    0    0    0    0    3    0    3    0    0    0    0    0    0    0    0    0    0    4    0    0    0    0    0    0    0    0    0    0    4    0    0    0    0    0    0    0    0    0    0    0    0    0    0    0    0    0    0    0    0    0    0    0    0    0    0    0    0    0    0    0    0    0    0    0    4    0    0    0    0    0    0    0    0    0    0    0    0    4    0    0    0    0    0    0    0    0    0    0    0    0    0    0    0    0    0    0    0    0    0    0    0    0    4    0    0    0    0    0    0    0    0    0    0    0    0    0    0    0    0    0    0    0    0    0    0    5    0    0    0    0    5    0    0    0    0    5    0    0    0    0    0    0    0    0    0    0    0    0    0    0    0    0    0    0    0    0    0    0    0    0    0    5    5    0    0    0    0    0    0    0    0    0    0    0    0    0    0    0    5    0    0    5    0    0    0    0    0    0    0    0    0    0    5    0    0    0    0    0    0    0    0    0    0    0    0    0    0    0    5    0    0    0    5    0    0    5    0    0    6    0    0    0    0    0    0    0    6    0    0    0    0    0    0    0    6    0    6    0    0    0    0    6    0    0    6    0    0    0    0    0    6    0    0    0    0    0    0    0    0    0    0    0    0    0    0    0    6    0    0    0    0    0    0    6    0    6    6    0    0    0    0    0    0    0    0    6    0    0    0    0    6    0    0    0    0    6    0    0    6    0    0    0    0    0    0    6    0    0    0    0    0    6    6    0    6    6\", #OD + ZK\n",
        "        #\"0    0    0    0    0    0    0    0    0    0    0    0    0    0    0    0    0    0    0    0    0    0    1    0    0    0    0    0    0    0    0    0    0    0    0    0    0    0    0    0    0    0    1    0    0    0    0    0    0    0    0    0    1    0    0    0    0    0    0    0    0    0    0    0    0    0    0    0    0    0    0    0    0    0    0    0    0    0    0    0    0    0    0    0    0    0    0    0    0    1    0    0    1    1    0    0    0    0    0    0    0    0    0    0    2    2    2    0    2    0    0    0    0    2    2    0    2    0    0    0    0    0    0    2    0    0    0    0    0    0    2    2    2    2    0    0    0    0    0    0    2    2    0    2    0    0    0    0    0    0    0    0    0    0    0    0    2    0    0    0    0    2    0    2    0    0    0    0    0    0    0    0    2    0    0    0    0    2    2    0    2    2    0    0    0    2    0    0    0    0    2    2    0    0    2    0    0    0    2    0    0    0    0    0    0    0    0    0    0    0    0    3    0    0    0    0    0    0    0    0    0    0    0    0    0    0    0    0    0    0    0    0    0    0    0    3    0    0    0    0    0    0    0    0    3    0    0    0    0    0    0    3    0    0    0    3    0    0    3    0    0    0    0    0    0    0    0    0    0    0    3    0    0    0    0    0    0    0    0    0    0    0    0    0    0    0    0    0    0    0    0    0    0    0    0    0    0    3    0    0    0    4    0    0    4    0    0    4    0    0    0    0    4    0    0    0    0    0    0    0    0    0    0    4    0    0    0    0    0    0    4    0    0    0    0    4    4    0    0    0    0    0    0    4    4    0    0    0    4    0    0    4    0    0    0    4    0    0    4    0    0    0    0    0    0    0    0    0    0    0    0    0    4    0    0    4    0    4    4    0    0    0    0    0    0    0    4    4    0    0    4    0    0    0    0    0    0    4    0    0    0    0    0    5    0    5    5    0    5    0    0    0    0    5    0    5    5    0    0    5    0    0    0    0    5    0    5    0    0    0    0    5    5    5    0    0    0    5    0    0    5    5    0    0    0    0    5    0    0    0    0    0    0    0    0    0    5    0    0    0    0    0    0    5    0    0    0    0    0    0    0    0    0    0    0    0    0    0    0    0    5    5    0    0    0    0    0    0    0    0    5    5    0    0    5    0    0    0    0    0    0    0    0    0    0    0    0    0    0    0    6    0    0    0    0    0    0    0    6    0    6    0    0    0    0    0    6    0    6    0    0    0    0    0    0    0    0    0    0    0    0    0    0    0    0    0    0    0    0    0    0    0    0    0    0    0    0    0    0    6    0    0    0    6    0    0    0    0    0    0    0    0    0    0    0    0    0    0    0    0    0    0    0    0    6    0    0    0    0    0    0    0    0    0    0    0    0    0    0    0\", #AB + TCF\n",
        "        )\n",
        "\n",
        "    missing = '*' # indicator for missing values\n",
        "    array = [d.split() for d in data]  # convert to 2D list of string items\n",
        "    #print(array)\n",
        "    \n",
        "    print(\"nominal metric: %.3f\" % krippendorff_alpha(array, nominal_metric, missing_items=missing))\n",
        "    print(\"interval metric: %.3f\" % krippendorff_alpha(array, interval_metric, missing_items=missing))"
      ],
      "metadata": {
        "colab": {
          "base_uri": "https://localhost:8080/"
        },
        "id": "DGvycE9WaCZe",
        "outputId": "3876579a-1952-4ae4-e89c-cea9386e8349"
      },
      "execution_count": 49,
      "outputs": [
        {
          "output_type": "stream",
          "name": "stdout",
          "text": [
            "nominal metric: 0.735\n",
            "interval metric: 0.707\n"
          ]
        }
      ]
    },
    {
      "cell_type": "code",
      "source": [
        "# Calculation of krippendorf's alpha - E2E orig vs AB + TCF\n",
        "\n",
        "if __name__ == '__main__': \n",
        "\n",
        "    # E2E data for krippendorff's alpha calculation\n",
        "\n",
        "    data = (\n",
        "        \"0    0    0    0    0    0    0    1    0    0    0    0    0    0    0    0    0    0    0    0    0    0    0    0    0    0    0    0    0    0    0    0    0    0    0    0    0    1    0    0    0    0    1    0    0    0    0    0    0    0    0    0    0    0    0    0    0    0    0    0    0    0    0    0    0    0    0    0    0    0    0    0    0    0    0    0    0    0    0    0    0    0    0    0    0    0    0    1    0    0    0    0    1    0    0    0    0    0    0    0    0    0    0    0    0    2    2    0    2    0    0    0    0    2    0    0    2    0    0    0    0    0    0    0    0    0    0    2    0    2    0    2    2    2    0    0    0    0    2    0    2    2    0    0    0    0    0    2    0    2    0    0    0    2    2    0    2    0    0    0    0    0    0    0    2    0    2    2    2    0    0    0    0    0    0    0    0    2    0    0    2    2    0    2    0    0    0    0    0    0    0    2    0    0    2    0    0    0    2    2    0    0    0    0    0    0    0    0    0    0    0    0    0    0    0    0    0    0    0    0    0    0    0    0    0    0    0    0    0    0    0    0    0    0    0    3    0    0    0    0    0    0    0    0    3    0    0    0    0    0    0    0    0    0    0    0    0    0    3    0    0    0    0    0    0    0    0    0    0    0    3    0    0    0    0    3    3    0    0    0    0    0    0    0    0    0    0    0    3    0    3    0    0    0    0    0    3    3    0    0    0    4    0    0    0    0    0    0    0    0    0    4    4    0    0    0    0    0    0    0    0    0    0    0    0    0    4    0    0    0    0    0    0    0    0    0    0    0    0    0    0    0    0    0    0    0    0    0    4    0    0    0    4    0    0    0    0    0    0    0    0    4    0    0    0    0    0    0    0    0    0    0    0    0    0    0    0    0    0    0    0    0    0    0    0    0    4    0    0    0    0    0    0    0    0    0    0    0    0    0    5    0    0    0    0    0    0    0    0    5    0    0    0    0    0    5    0    5    0    5    0    0    0    0    0    0    0    0    0    0    0    0    0    0    0    0    0    0    0    0    0    0    0    0    0    5    5    0    0    0    0    0    0    0    0    5    0    0    0    0    0    0    5    0    0    5    0    0    0    0    5    5    0    0    0    0    5    0    0    0    0    0    0    0    0    0    0    0    5    0    5    0    0    0    0    0    5    0    0    0    0    0    6    0    0    0    0    0    0    0    6    0    0    0    0    0    0    0    6    0    0    6    0    0    0    6    0    0    6    0    0    0    0    0    6    0    0    0    0    0    0    0    0    0    0    0    0    0    0    0    6    0    0    0    0    0    0    6    0    6    6    0    0    0    0    0    0    0    0    6    0    0    0    0    6    0    0    0    0    6    0    0    6    0    6    0    0    0    0    0    0    0    0    0    0    0    6    0    0    0\", #orig\n",
        "        #\"0    0    0    0    0    0    0    1    0    0    0    0    0    0    0    0    0    0    0    0    0    0    1    0    0    0    0    0    0    0    0    0    0    0    0    0    0    1    0    0    0    0    1    0    0    0    0    0    0    0    0    0    0    0    0    0    0    0    0    0    0    0    0    0    0    0    0    0    0    0    0    0    0    0    0    0    0    0    0    0    0    0    0    0    0    0    0    1    0    0    0    0    0    1    0    0    0    0    0    0    2    0    0    2    0    2    2    0    2    0    0    0    0    2    0    0    2    0    0    0    0    0    0    0    2    0    0    2    0    2    0    2    2    2    0    0    0    0    2    2    2    2    0    0    0    0    0    2    0    2    0    0    0    2    2    0    2    0    0    0    0    0    0    0    2    0    2    2    2    0    0    0    0    2    0    0    0    0    0    0    2    2    0    2    0    2    0    0    0    0    0    2    0    0    2    0    0    0    0    0    0    0    0    0    0    0    0    0    0    0    0    3    0    0    0    3    0    3    0    0    0    3    0    0    0    0    0    0    0    0    0    0    0    0    0    3    0    0    0    0    0    0    0    0    3    0    0    0    0    0    0    0    0    0    0    3    0    0    3    0    0    0    0    0    0    0    0    0    0    0    3    3    0    0    0    3    0    0    0    0    0    0    0    0    0    0    0    0    3    0    3    0    0    0    0    0    0    0    0    0    0    4    0    0    0    0    0    0    0    0    0    0    4    0    0    0    0    0    0    0    0    0    0    0    0    0    0    0    0    0    0    0    0    0    0    0    0    0    0    0    0    0    0    0    0    0    0    0    4    0    0    0    0    0    0    0    0    0    0    0    0    4    0    0    0    0    0    0    0    0    0    0    0    0    0    0    0    0    0    0    0    0    0    0    0    0    4    0    0    0    0    0    0    0    0    0    0    0    0    0    0    0    0    0    0    0    0    0    0    5    0    0    0    0    5    0    0    0    0    5    0    0    0    0    0    0    0    0    0    0    0    0    0    0    0    0    0    0    0    0    0    0    0    0    0    5    5    0    0    0    0    0    0    0    0    0    0    0    0    0    0    0    5    0    0    5    0    0    0    0    0    0    0    0    0    0    5    0    0    0    0    0    0    0    0    0    0    0    0    0    0    0    5    0    0    0    5    0    0    5    0    0    6    0    0    0    0    0    0    0    6    0    0    0    0    0    0    0    6    0    6    0    0    0    0    6    0    0    6    0    0    0    0    0    6    0    0    0    0    0    0    0    0    0    0    0    0    0    0    0    6    0    0    0    0    0    0    6    0    6    6    0    0    0    0    0    0    0    0    6    0    0    0    0    6    0    0    0    0    6    0    0    6    0    0    0    0    0    0    6    0    0    0    0    0    6    6    0    6    6\", #OD + ZK\n",
        "        \"0    0    0    0    0    0    0    0    0    0    0    0    0    0    0    0    0    0    0    0    0    0    1    0    0    0    0    0    0    0    0    0    0    0    0    0    0    0    0    0    0    0    1    0    0    0    0    0    0    0    0    0    1    0    0    0    0    0    0    0    0    0    0    0    0    0    0    0    0    0    0    0    0    0    0    0    0    0    0    0    0    0    0    0    0    0    0    0    0    1    0    0    1    1    0    0    0    0    0    0    0    0    0    0    2    2    2    0    2    0    0    0    0    2    2    0    2    0    0    0    0    0    0    2    0    0    0    0    0    0    2    2    2    2    0    0    0    0    0    0    2    2    0    2    0    0    0    0    0    0    0    0    0    0    0    0    2    0    0    0    0    2    0    2    0    0    0    0    0    0    0    0    2    0    0    0    0    2    2    0    2    2    0    0    0    2    0    0    0    0    2    2    0    0    2    0    0    0    2    0    0    0    0    0    0    0    0    0    0    0    0    3    0    0    0    0    0    0    0    0    0    0    0    0    0    0    0    0    0    0    0    0    0    0    0    3    0    0    0    0    0    0    0    0    3    0    0    0    0    0    0    3    0    0    0    3    0    0    3    0    0    0    0    0    0    0    0    0    0    0    3    0    0    0    0    0    0    0    0    0    0    0    0    0    0    0    0    0    0    0    0    0    0    0    0    0    0    3    0    0    0    4    0    0    4    0    0    4    0    0    0    0    4    0    0    0    0    0    0    0    0    0    0    4    0    0    0    0    0    0    4    0    0    0    0    4    4    0    0    0    0    0    0    4    4    0    0    0    4    0    0    4    0    0    0    4    0    0    4    0    0    0    0    0    0    0    0    0    0    0    0    0    4    0    0    4    0    4    4    0    0    0    0    0    0    0    4    4    0    0    4    0    0    0    0    0    0    4    0    0    0    0    0    5    0    5    5    0    5    0    0    0    0    5    0    5    5    0    0    5    0    0    0    0    5    0    5    0    0    0    0    5    5    5    0    0    0    5    0    0    5    5    0    0    0    0    5    0    0    0    0    0    0    0    0    0    5    0    0    0    0    0    0    5    0    0    0    0    0    0    0    0    0    0    0    0    0    0    0    0    5    5    0    0    0    0    0    0    0    0    5    5    0    0    5    0    0    0    0    0    0    0    0    0    0    0    0    0    0    0    6    0    0    0    0    0    0    0    6    0    6    0    0    0    0    0    6    0    6    0    0    0    0    0    0    0    0    0    0    0    0    0    0    0    0    0    0    0    0    0    0    0    0    0    0    0    0    0    0    6    0    0    0    6    0    0    0    0    0    0    0    0    0    0    0    0    0    0    0    0    0    0    0    0    6    0    0    0    0    0    0    0    0    0    0    0    0    0    0    0\", #AB + TCF\n",
        "        )\n",
        "\n",
        "    missing = '*' # indicator for missing values\n",
        "    array = [d.split() for d in data]  # convert to 2D list of string items\n",
        "    #print(array)\n",
        "    \n",
        "    print(\"nominal metric: %.3f\" % krippendorff_alpha(array, nominal_metric, missing_items=missing))\n",
        "    print(\"interval metric: %.3f\" % krippendorff_alpha(array, interval_metric, missing_items=missing))"
      ],
      "metadata": {
        "colab": {
          "base_uri": "https://localhost:8080/"
        },
        "id": "2QTw_wEzaJrR",
        "outputId": "4759c770-dd11-4d62-bf15-66d777246b21"
      },
      "execution_count": 50,
      "outputs": [
        {
          "output_type": "stream",
          "name": "stdout",
          "text": [
            "nominal metric: 0.347\n",
            "interval metric: 0.233\n"
          ]
        }
      ]
    },
    {
      "cell_type": "code",
      "source": [
        "# Calculation of krippendorf's alpha - E2E OD + ZK vs AB + TCF\n",
        "\n",
        "if __name__ == '__main__': \n",
        "    \n",
        "\n",
        "    # E2E data for krippendorff's alpha calculation\n",
        "\n",
        "    data = (\n",
        "        #\"0    0    0    0    0    0    0    1    0    0    0    0    0    0    0    0    0    0    0    0    0    0    0    0    0    0    0    0    0    0    0    0    0    0    0    0    0    1    0    0    0    0    1    0    0    0    0    0    0    0    0    0    0    0    0    0    0    0    0    0    0    0    0    0    0    0    0    0    0    0    0    0    0    0    0    0    0    0    0    0    0    0    0    0    0    0    0    1    0    0    0    0    1    0    0    0    0    0    0    0    0    0    0    0    0    2    2    0    2    0    0    0    0    2    0    0    2    0    0    0    0    0    0    0    0    0    0    2    0    2    0    2    2    2    0    0    0    0    2    0    2    2    0    0    0    0    0    2    0    2    0    0    0    2    2    0    2    0    0    0    0    0    0    0    2    0    2    2    2    0    0    0    0    0    0    0    0    2    0    0    2    2    0    2    0    0    0    0    0    0    0    2    0    0    2    0    0    0    2    2    0    0    0    0    0    0    0    0    0    0    0    0    0    0    0    0    0    0    0    0    0    0    0    0    0    0    0    0    0    0    0    0    0    0    0    3    0    0    0    0    0    0    0    0    3    0    0    0    0    0    0    0    0    0    0    0    0    0    3    0    0    0    0    0    0    0    0    0    0    0    3    0    0    0    0    3    3    0    0    0    0    0    0    0    0    0    0    0    3    0    3    0    0    0    0    0    3    3    0    0    0    4    0    0    0    0    0    0    0    0    0    4    4    0    0    0    0    0    0    0    0    0    0    0    0    0    4    0    0    0    0    0    0    0    0    0    0    0    0    0    0    0    0    0    0    0    0    0    4    0    0    0    4    0    0    0    0    0    0    0    0    4    0    0    0    0    0    0    0    0    0    0    0    0    0    0    0    0    0    0    0    0    0    0    0    0    4    0    0    0    0    0    0    0    0    0    0    0    0    0    5    0    0    0    0    0    0    0    0    5    0    0    0    0    0    5    0    5    0    5    0    0    0    0    0    0    0    0    0    0    0    0    0    0    0    0    0    0    0    0    0    0    0    0    0    5    5    0    0    0    0    0    0    0    0    5    0    0    0    0    0    0    5    0    0    5    0    0    0    0    5    5    0    0    0    0    5    0    0    0    0    0    0    0    0    0    0    0    5    0    5    0    0    0    0    0    5    0    0    0    0    0    6    0    0    0    0    0    0    0    6    0    0    0    0    0    0    0    6    0    0    6    0    0    0    6    0    0    6    0    0    0    0    0    6    0    0    0    0    0    0    0    0    0    0    0    0    0    0    0    6    0    0    0    0    0    0    6    0    6    6    0    0    0    0    0    0    0    0    6    0    0    0    0    6    0    0    0    0    6    0    0    6    0    6    0    0    0    0    0    0    0    0    0    0    0    6    0    0    0\", #orig\n",
        "        \"0    0    0    0    0    0    0    1    0    0    0    0    0    0    0    0    0    0    0    0    0    0    1    0    0    0    0    0    0    0    0    0    0    0    0    0    0    1    0    0    0    0    1    0    0    0    0    0    0    0    0    0    0    0    0    0    0    0    0    0    0    0    0    0    0    0    0    0    0    0    0    0    0    0    0    0    0    0    0    0    0    0    0    0    0    0    0    1    0    0    0    0    0    1    0    0    0    0    0    0    2    0    0    2    0    2    2    0    2    0    0    0    0    2    0    0    2    0    0    0    0    0    0    0    2    0    0    2    0    2    0    2    2    2    0    0    0    0    2    2    2    2    0    0    0    0    0    2    0    2    0    0    0    2    2    0    2    0    0    0    0    0    0    0    2    0    2    2    2    0    0    0    0    2    0    0    0    0    0    0    2    2    0    2    0    2    0    0    0    0    0    2    0    0    2    0    0    0    0    0    0    0    0    0    0    0    0    0    0    0    0    3    0    0    0    3    0    3    0    0    0    3    0    0    0    0    0    0    0    0    0    0    0    0    0    3    0    0    0    0    0    0    0    0    3    0    0    0    0    0    0    0    0    0    0    3    0    0    3    0    0    0    0    0    0    0    0    0    0    0    3    3    0    0    0    3    0    0    0    0    0    0    0    0    0    0    0    0    3    0    3    0    0    0    0    0    0    0    0    0    0    4    0    0    0    0    0    0    0    0    0    0    4    0    0    0    0    0    0    0    0    0    0    0    0    0    0    0    0    0    0    0    0    0    0    0    0    0    0    0    0    0    0    0    0    0    0    0    4    0    0    0    0    0    0    0    0    0    0    0    0    4    0    0    0    0    0    0    0    0    0    0    0    0    0    0    0    0    0    0    0    0    0    0    0    0    4    0    0    0    0    0    0    0    0    0    0    0    0    0    0    0    0    0    0    0    0    0    0    5    0    0    0    0    5    0    0    0    0    5    0    0    0    0    0    0    0    0    0    0    0    0    0    0    0    0    0    0    0    0    0    0    0    0    0    5    5    0    0    0    0    0    0    0    0    0    0    0    0    0    0    0    5    0    0    5    0    0    0    0    0    0    0    0    0    0    5    0    0    0    0    0    0    0    0    0    0    0    0    0    0    0    5    0    0    0    5    0    0    5    0    0    6    0    0    0    0    0    0    0    6    0    0    0    0    0    0    0    6    0    6    0    0    0    0    6    0    0    6    0    0    0    0    0    6    0    0    0    0    0    0    0    0    0    0    0    0    0    0    0    6    0    0    0    0    0    0    6    0    6    6    0    0    0    0    0    0    0    0    6    0    0    0    0    6    0    0    0    0    6    0    0    6    0    0    0    0    0    0    6    0    0    0    0    0    6    6    0    6    6\", #OD + ZK\n",
        "        \"0    0    0    0    0    0    0    0    0    0    0    0    0    0    0    0    0    0    0    0    0    0    1    0    0    0    0    0    0    0    0    0    0    0    0    0    0    0    0    0    0    0    1    0    0    0    0    0    0    0    0    0    1    0    0    0    0    0    0    0    0    0    0    0    0    0    0    0    0    0    0    0    0    0    0    0    0    0    0    0    0    0    0    0    0    0    0    0    0    1    0    0    1    1    0    0    0    0    0    0    0    0    0    0    2    2    2    0    2    0    0    0    0    2    2    0    2    0    0    0    0    0    0    2    0    0    0    0    0    0    2    2    2    2    0    0    0    0    0    0    2    2    0    2    0    0    0    0    0    0    0    0    0    0    0    0    2    0    0    0    0    2    0    2    0    0    0    0    0    0    0    0    2    0    0    0    0    2    2    0    2    2    0    0    0    2    0    0    0    0    2    2    0    0    2    0    0    0    2    0    0    0    0    0    0    0    0    0    0    0    0    3    0    0    0    0    0    0    0    0    0    0    0    0    0    0    0    0    0    0    0    0    0    0    0    3    0    0    0    0    0    0    0    0    3    0    0    0    0    0    0    3    0    0    0    3    0    0    3    0    0    0    0    0    0    0    0    0    0    0    3    0    0    0    0    0    0    0    0    0    0    0    0    0    0    0    0    0    0    0    0    0    0    0    0    0    0    3    0    0    0    4    0    0    4    0    0    4    0    0    0    0    4    0    0    0    0    0    0    0    0    0    0    4    0    0    0    0    0    0    4    0    0    0    0    4    4    0    0    0    0    0    0    4    4    0    0    0    4    0    0    4    0    0    0    4    0    0    4    0    0    0    0    0    0    0    0    0    0    0    0    0    4    0    0    4    0    4    4    0    0    0    0    0    0    0    4    4    0    0    4    0    0    0    0    0    0    4    0    0    0    0    0    5    0    5    5    0    5    0    0    0    0    5    0    5    5    0    0    5    0    0    0    0    5    0    5    0    0    0    0    5    5    5    0    0    0    5    0    0    5    5    0    0    0    0    5    0    0    0    0    0    0    0    0    0    5    0    0    0    0    0    0    5    0    0    0    0    0    0    0    0    0    0    0    0    0    0    0    0    5    5    0    0    0    0    0    0    0    0    5    5    0    0    5    0    0    0    0    0    0    0    0    0    0    0    0    0    0    0    6    0    0    0    0    0    0    0    6    0    6    0    0    0    0    0    6    0    6    0    0    0    0    0    0    0    0    0    0    0    0    0    0    0    0    0    0    0    0    0    0    0    0    0    0    0    0    0    0    6    0    0    0    6    0    0    0    0    0    0    0    0    0    0    0    0    0    0    0    0    0    0    0    0    6    0    0    0    0    0    0    0    0    0    0    0    0    0    0    0\", #AB + TCF\n",
        "        )\n",
        "\n",
        "    missing = '*' # indicator for missing values\n",
        "    array = [d.split() for d in data]  # convert to 2D list of string items\n",
        "    #print(array)\n",
        "    \n",
        "    print(\"nominal metric: %.3f\" % krippendorff_alpha(array, nominal_metric, missing_items=missing))\n",
        "    print(\"interval metric: %.3f\" % krippendorff_alpha(array, interval_metric, missing_items=missing))"
      ],
      "metadata": {
        "colab": {
          "base_uri": "https://localhost:8080/"
        },
        "id": "Qmn189vTaW4c",
        "outputId": "9a2b59a5-3b1c-464c-aa09-fab3bf5a38f6"
      },
      "execution_count": 51,
      "outputs": [
        {
          "output_type": "stream",
          "name": "stdout",
          "text": [
            "nominal metric: 0.330\n",
            "interval metric: 0.200\n"
          ]
        }
      ]
    },
    {
      "cell_type": "code",
      "source": [
        "# Calculation of krippendorf's alpha - WebNLG all\n",
        "\n",
        "if __name__ == '__main__': \n",
        "    \n",
        "\n",
        "\n",
        "    # WebNLG data for krippendorff's alpha calculation\n",
        "\n",
        "    data = (\n",
        "        \"1    0    0    0    0    0    1    0    0    0    0    0    1    0    0    1    1    0    1    0    0    1    1    0    1    1    0    0    0    0    0    0    0    1    0    0    0    1    0    0    0    0    0    0    0    1    0    0    0    0    0    0    0    0    0    0    0    0    0    0    0    0    1    0    1    0    0    0    0    0    0    0    0    0    0    0    1    1    0    0    0    1    0    0    0    0    1    0    1    0    1    0    0    0    1    0    0    0    0    0    0    0    0    0    0    0    0    0    0    0    0    0    0    0    0    0    0    2    0    0    2    0    0    0    0    0    0    0    0    0    0    0    0    0    0    0    0    0    0    2    0    0    0    0    0    0    0    0    0    0    0    0    2    0    0    0    0    0    0    0    0    0    0    0    0    0    0    0    0    0    0    0    0    0    0    0    0    0    2    0    0    0    2    0    0    0    0    0    0    0    0    0    0    0    0    2    0    0    0    0    0    3    0    0    0    0    0    0    0    0    0    0    0    3    0    0    0    0    0    3    0    0    0    3    0    0    3    0    3    0    0    0    0    0    0    3    0    0    0    0    3    0    0    0    0    0    0    0    0    0    0    0    0    3    0    0    0    3    0    0    0    3    0    0    0    0    0    0    0    0    0    0    0    0    0    0    0    0    0    0    3    0    0    3    0    3    0    0    0    0    0    0    0    0    0    0    0    0    0    0    0    0    0    0    0    4    0    0    0    0    4    0    0    0    0    0    0    0    0    0    0    0    0    0    0    0    0    0    0    4    0    0    0    0    4    0    0    0    0    0    0    0    0    0    0    0    0    0    0    0    0    0    0    0    0    0    0    0    0    0    0    0    0    0    0    0    0    0    0    0    0    0    0    0    0    4    0    0    0    0    0    0    0    0    0    0    0    0    0    0    0    0    0    4    0    0    0    4    4    0    0    0    0    5    5    0    0    5    5    5    0    5    0    0    0    0    0    0    0    0    0    0    0    0    0    0    0    0    0    0    5    0    0    0    0    0    0    0    0    0    0    0    0    0    0    0    0    5    0    0    0    0    0    0    0    0    0    0    0    5    0    0    0    0    0    0    0    5    0    0    0    0    5    0    0    0    0    0    0    5    0    0    0    0    0    0    0    0    0    0    0    5    5    0    0    0    5    0    0    0\", #orig_WebNLG\n",
        "        \"0    0    0    0    0    0    1    0    0    0    0    0    0    0    0    1    0    1    0    0    0    1    0    0    1    0    0    0    0    0    0    1    0    0    0    1    1    0    0    0    0    0    0    0    0    1    0    0    0    0    0    0    0    1    1    0    0    0    0    0    0    0    0    0    0    0    0    0    1    0    0    0    0    0    0    0    0    0    1    0    0    0    0    0    0    0    0    0    0    0    1    0    0    0    1    0    0    0    0    1    0    0    0    0    0    0    0    0    0    0    0    0    0    0    0    0    0    0    0    0    0    0    0    0    0    0    0    0    0    0    0    0    0    0    0    0    0    0    0    0    0    0    0    0    0    0    0    0    0    0    0    0    0    0    0    0    0    0    0    0    2    0    0    0    0    0    0    0    0    0    0    0    0    0    0    0    0    0    0    0    0    0    0    0    0    2    0    0    0    0    0    0    0    0    0    0    0    0    2    0    0    3    0    0    0    0    0    0    0    0    0    0    3    0    0    0    3    0    0    3    0    0    3    0    0    3    0    3    0    0    0    0    0    0    3    0    0    0    0    0    3    3    0    0    3    0    3    3    0    0    0    0    0    0    0    3    0    0    0    3    3    0    0    0    0    0    0    3    0    3    3    0    3    0    0    0    0    0    0    0    3    0    0    0    3    0    0    3    0    0    0    3    0    3    0    3    0    3    0    0    4    0    4    0    0    4    0    0    4    0    4    0    0    4    4    0    0    0    0    0    4    0    0    4    0    0    0    0    4    0    4    0    0    0    0    0    0    0    4    0    0    0    4    4    0    0    0    0    4    4    4    4    0    0    0    0    4    0    4    0    0    0    0    0    0    0    0    0    0    0    0    0    0    0    0    4    0    0    0    0    0    0    0    4    0    0    4    0    0    4    0    0    0    0    0    0    0    4    0    0    0    0    0    5    5    0    0    5    0    5    0    0    0    0    0    0    0    0    5    0    0    0    0    0    0    0    5    0    0    0    0    0    0    5    0    0    0    0    0    5    0    0    0    0    0    0    0    0    0    0    0    0    5    0    0    0    0    0    0    0    0    0    5    0    5    5    5    0    0    0    0    5    0    0    5    0    0    0    0    5    0    0    5    0    0    0    0    0    0    0    0    0    5    0    0    0    5    0    0    0\", #OD+ZK_WebNLG\n",
        "        \"0    0    0    0    0    0    0    0    0    0    0    0    0    0    0    0    0    0    0    0    0    0    0    0    0    0    0    0    0    0    0    0    0    0    0    0    0    0    0    0    1    0    0    0    0    0    0    0    0    0    0    0    0    0    0    0    1    0    0    0    0    0    0    1    0    0    0    0    0    0    1    0    0    0    0    0    0    1    0    0    0    0    0    0    0    0    0    0    0    0    0    0    0    0    0    0    0    0    0    0    0    0    0    0    0    0    0    0    0    0    0    0    0    0    0    0    0    0    2    0    2    0    0    0    0    0    0    0    0    0    0    0    2    2    0    2    2    2    0    0    0    0    0    0    0    0    0    0    0    0    0    0    0    0    0    0    0    0    0    0    0    0    0    0    0    0    0    0    0    0    0    0    0    0    0    2    0    0    0    0    0    0    0    0    0    0    0    0    0    0    0    0    0    0    2    0    0    2    0    0    0    0    0    0    0    0    3    3    0    0    0    0    0    0    0    0    0    0    0    0    0    0    0    0    0    0    0    0    0    0    3    0    0    0    0    0    0    0    3    0    0    3    3    0    3    0    0    0    0    0    0    0    0    0    3    0    0    0    0    0    0    0    0    0    0    0    0    0    0    0    3    0    0    0    3    0    0    0    0    0    0    0    0    0    0    0    0    0    0    0    0    0    0    0    0    0    0    0    0    0    0    4    0    0    0    4    0    0    0    0    4    0    4    4    4    0    4    0    0    0    4    0    0    4    0    0    0    0    4    0    0    4    4    0    0    0    0    0    0    0    4    0    0    4    0    0    4    0    4    0    0    4    0    0    0    4    4    0    4    0    0    0    0    0    0    0    0    0    0    0    4    0    0    0    0    4    0    4    0    0    0    4    0    0    4    0    4    4    0    0    4    0    0    0    0    0    0    0    0    0    0    0    0    0    5    0    0    5    5    0    0    0    0    0    0    0    0    0    0    5    0    0    0    0    0    0    0    0    0    0    5    0    0    0    0    0    0    0    0    0    0    5    5    0    5    0    0    0    0    0    0    0    0    0    0    0    0    0    0    5    0    0    0    0    0    0    0    0    0    0    0    0    5    0    0    0    0    0    0    0    5    0    0    0    0    0    0    0    0    0    0    5    0    0    0    0    0    0    0    0\", #AB+TF_WebNLG\n",
        "    )\n",
        "\n",
        "    missing = '*' # indicator for missing values\n",
        "    array = [d.split() for d in data]  # convert to 2D list of string items\n",
        "    #print(array)\n",
        "    \n",
        "    print(\"nominal metric: %.3f\" % krippendorff_alpha(array, nominal_metric, missing_items=missing))\n",
        "    print(\"interval metric: %.3f\" % krippendorff_alpha(array, interval_metric, missing_items=missing))"
      ],
      "metadata": {
        "colab": {
          "base_uri": "https://localhost:8080/"
        },
        "id": "YTUJU-0vZhSL",
        "outputId": "b2e25b77-86bc-4e2c-9108-85656d8ec106"
      },
      "execution_count": 52,
      "outputs": [
        {
          "output_type": "stream",
          "name": "stdout",
          "text": [
            "nominal metric: 0.165\n",
            "interval metric: 0.201\n"
          ]
        }
      ]
    },
    {
      "cell_type": "code",
      "source": [
        "# Calculation of krippendorf's alpha - WebNLG orig vs OD + ZK\n",
        "\n",
        "if __name__ == '__main__': \n",
        "    \n",
        "\n",
        "\n",
        "    # WebNLG data for krippendorff's alpha calculation\n",
        "\n",
        "    data = (\n",
        "        \"1    0    0    0    0    0    1    0    0    0    0    0    1    0    0    1    1    0    1    0    0    1    1    0    1    1    0    0    0    0    0    0    0    1    0    0    0    1    0    0    0    0    0    0    0    1    0    0    0    0    0    0    0    0    0    0    0    0    0    0    0    0    1    0    1    0    0    0    0    0    0    0    0    0    0    0    1    1    0    0    0    1    0    0    0    0    1    0    1    0    1    0    0    0    1    0    0    0    0    0    0    0    0    0    0    0    0    0    0    0    0    0    0    0    0    0    0    2    0    0    2    0    0    0    0    0    0    0    0    0    0    0    0    0    0    0    0    0    0    2    0    0    0    0    0    0    0    0    0    0    0    0    2    0    0    0    0    0    0    0    0    0    0    0    0    0    0    0    0    0    0    0    0    0    0    0    0    0    2    0    0    0    2    0    0    0    0    0    0    0    0    0    0    0    0    2    0    0    0    0    0    3    0    0    0    0    0    0    0    0    0    0    0    3    0    0    0    0    0    3    0    0    0    3    0    0    3    0    3    0    0    0    0    0    0    3    0    0    0    0    3    0    0    0    0    0    0    0    0    0    0    0    0    3    0    0    0    3    0    0    0    3    0    0    0    0    0    0    0    0    0    0    0    0    0    0    0    0    0    0    3    0    0    3    0    3    0    0    0    0    0    0    0    0    0    0    0    0    0    0    0    0    0    0    0    4    0    0    0    0    4    0    0    0    0    0    0    0    0    0    0    0    0    0    0    0    0    0    0    4    0    0    0    0    4    0    0    0    0    0    0    0    0    0    0    0    0    0    0    0    0    0    0    0    0    0    0    0    0    0    0    0    0    0    0    0    0    0    0    0    0    0    0    0    0    4    0    0    0    0    0    0    0    0    0    0    0    0    0    0    0    0    0    4    0    0    0    4    4    0    0    0    0    5    5    0    0    5    5    5    0    5    0    0    0    0    0    0    0    0    0    0    0    0    0    0    0    0    0    0    5    0    0    0    0    0    0    0    0    0    0    0    0    0    0    0    0    5    0    0    0    0    0    0    0    0    0    0    0    5    0    0    0    0    0    0    0    5    0    0    0    0    5    0    0    0    0    0    0    5    0    0    0    0    0    0    0    0    0    0    0    5    5    0    0    0    5    0    0    0\", #orig_WebNLG\n",
        "        \"0    0    0    0    0    0    1    0    0    0    0    0    0    0    0    1    0    1    0    0    0    1    0    0    1    0    0    0    0    0    0    1    0    0    0    1    1    0    0    0    0    0    0    0    0    1    0    0    0    0    0    0    0    1    1    0    0    0    0    0    0    0    0    0    0    0    0    0    1    0    0    0    0    0    0    0    0    0    1    0    0    0    0    0    0    0    0    0    0    0    1    0    0    0    1    0    0    0    0    1    0    0    0    0    0    0    0    0    0    0    0    0    0    0    0    0    0    0    0    0    0    0    0    0    0    0    0    0    0    0    0    0    0    0    0    0    0    0    0    0    0    0    0    0    0    0    0    0    0    0    0    0    0    0    0    0    0    0    0    0    2    0    0    0    0    0    0    0    0    0    0    0    0    0    0    0    0    0    0    0    0    0    0    0    0    2    0    0    0    0    0    0    0    0    0    0    0    0    2    0    0    3    0    0    0    0    0    0    0    0    0    0    3    0    0    0    3    0    0    3    0    0    3    0    0    3    0    3    0    0    0    0    0    0    3    0    0    0    0    0    3    3    0    0    3    0    3    3    0    0    0    0    0    0    0    3    0    0    0    3    3    0    0    0    0    0    0    3    0    3    3    0    3    0    0    0    0    0    0    0    3    0    0    0    3    0    0    3    0    0    0    3    0    3    0    3    0    3    0    0    4    0    4    0    0    4    0    0    4    0    4    0    0    4    4    0    0    0    0    0    4    0    0    4    0    0    0    0    4    0    4    0    0    0    0    0    0    0    4    0    0    0    4    4    0    0    0    0    4    4    4    4    0    0    0    0    4    0    4    0    0    0    0    0    0    0    0    0    0    0    0    0    0    0    0    4    0    0    0    0    0    0    0    4    0    0    4    0    0    4    0    0    0    0    0    0    0    4    0    0    0    0    0    5    5    0    0    5    0    5    0    0    0    0    0    0    0    0    5    0    0    0    0    0    0    0    5    0    0    0    0    0    0    5    0    0    0    0    0    5    0    0    0    0    0    0    0    0    0    0    0    0    5    0    0    0    0    0    0    0    0    0    5    0    5    5    5    0    0    0    0    5    0    0    5    0    0    0    0    5    0    0    5    0    0    0    0    0    0    0    0    0    5    0    0    0    5    0    0    0\", #OD+ZK_WebNLG\n",
        "        #\"0    0    0    0    0    0    0    0    0    0    0    0    0    0    0    0    0    0    0    0    0    0    0    0    0    0    0    0    0    0    0    0    0    0    0    0    0    0    0    0    1    0    0    0    0    0    0    0    0    0    0    0    0    0    0    0    1    0    0    0    0    0    0    1    0    0    0    0    0    0    1    0    0    0    0    0    0    1    0    0    0    0    0    0    0    0    0    0    0    0    0    0    0    0    0    0    0    0    0    0    0    0    0    0    0    0    0    0    0    0    0    0    0    0    0    0    0    0    2    0    2    0    0    0    0    0    0    0    0    0    0    0    2    2    0    2    2    2    0    0    0    0    0    0    0    0    0    0    0    0    0    0    0    0    0    0    0    0    0    0    0    0    0    0    0    0    0    0    0    0    0    0    0    0    0    2    0    0    0    0    0    0    0    0    0    0    0    0    0    0    0    0    0    0    2    0    0    2    0    0    0    0    0    0    0    0    3    3    0    0    0    0    0    0    0    0    0    0    0    0    0    0    0    0    0    0    0    0    0    0    3    0    0    0    0    0    0    0    3    0    0    3    3    0    3    0    0    0    0    0    0    0    0    0    3    0    0    0    0    0    0    0    0    0    0    0    0    0    0    0    3    0    0    0    3    0    0    0    0    0    0    0    0    0    0    0    0    0    0    0    0    0    0    0    0    0    0    0    0    0    0    4    0    0    0    4    0    0    0    0    4    0    4    4    4    0    4    0    0    0    4    0    0    4    0    0    0    0    4    0    0    4    4    0    0    0    0    0    0    0    4    0    0    4    0    0    4    0    4    0    0    4    0    0    0    4    4    0    4    0    0    0    0    0    0    0    0    0    0    0    4    0    0    0    0    4    0    4    0    0    0    4    0    0    4    0    4    4    0    0    4    0    0    0    0    0    0    0    0    0    0    0    0    0    5    0    0    5    5    0    0    0    0    0    0    0    0    0    0    5    0    0    0    0    0    0    0    0    0    0    5    0    0    0    0    0    0    0    0    0    0    5    5    0    5    0    0    0    0    0    0    0    0    0    0    0    0    0    0    5    0    0    0    0    0    0    0    0    0    0    0    0    5    0    0    0    0    0    0    0    5    0    0    0    0    0    0    0    0    0    0    5    0    0    0    0    0    0    0    0\", #AB+TF_WebNLG\n",
        "    )\n",
        "\n",
        "    missing = '*' # indicator for missing values\n",
        "    array = [d.split() for d in data]  # convert to 2D list of string items\n",
        "    #print(array)\n",
        "    \n",
        "    print(\"nominal metric: %.3f\" % krippendorff_alpha(array, nominal_metric, missing_items=missing))\n",
        "    print(\"interval metric: %.3f\" % krippendorff_alpha(array, interval_metric, missing_items=missing))"
      ],
      "metadata": {
        "colab": {
          "base_uri": "https://localhost:8080/"
        },
        "id": "th_NrtY0apLB",
        "outputId": "ba74e910-0132-4687-aa38-2488627045c1"
      },
      "execution_count": 53,
      "outputs": [
        {
          "output_type": "stream",
          "name": "stdout",
          "text": [
            "nominal metric: 0.207\n",
            "interval metric: 0.209\n"
          ]
        }
      ]
    },
    {
      "cell_type": "code",
      "source": [
        "# Calculation of krippendorf's alpha - WebNLG orig vs AB + TCF\n",
        "\n",
        "if __name__ == '__main__': \n",
        "    \n",
        "\n",
        "\n",
        "    # WebNLG data for krippendorff's alpha calculation\n",
        "\n",
        "    data = (\n",
        "        \"1    0    0    0    0    0    1    0    0    0    0    0    1    0    0    1    1    0    1    0    0    1    1    0    1    1    0    0    0    0    0    0    0    1    0    0    0    1    0    0    0    0    0    0    0    1    0    0    0    0    0    0    0    0    0    0    0    0    0    0    0    0    1    0    1    0    0    0    0    0    0    0    0    0    0    0    1    1    0    0    0    1    0    0    0    0    1    0    1    0    1    0    0    0    1    0    0    0    0    0    0    0    0    0    0    0    0    0    0    0    0    0    0    0    0    0    0    2    0    0    2    0    0    0    0    0    0    0    0    0    0    0    0    0    0    0    0    0    0    2    0    0    0    0    0    0    0    0    0    0    0    0    2    0    0    0    0    0    0    0    0    0    0    0    0    0    0    0    0    0    0    0    0    0    0    0    0    0    2    0    0    0    2    0    0    0    0    0    0    0    0    0    0    0    0    2    0    0    0    0    0    3    0    0    0    0    0    0    0    0    0    0    0    3    0    0    0    0    0    3    0    0    0    3    0    0    3    0    3    0    0    0    0    0    0    3    0    0    0    0    3    0    0    0    0    0    0    0    0    0    0    0    0    3    0    0    0    3    0    0    0    3    0    0    0    0    0    0    0    0    0    0    0    0    0    0    0    0    0    0    3    0    0    3    0    3    0    0    0    0    0    0    0    0    0    0    0    0    0    0    0    0    0    0    0    4    0    0    0    0    4    0    0    0    0    0    0    0    0    0    0    0    0    0    0    0    0    0    0    4    0    0    0    0    4    0    0    0    0    0    0    0    0    0    0    0    0    0    0    0    0    0    0    0    0    0    0    0    0    0    0    0    0    0    0    0    0    0    0    0    0    0    0    0    0    4    0    0    0    0    0    0    0    0    0    0    0    0    0    0    0    0    0    4    0    0    0    4    4    0    0    0    0    5    5    0    0    5    5    5    0    5    0    0    0    0    0    0    0    0    0    0    0    0    0    0    0    0    0    0    5    0    0    0    0    0    0    0    0    0    0    0    0    0    0    0    0    5    0    0    0    0    0    0    0    0    0    0    0    5    0    0    0    0    0    0    0    5    0    0    0    0    5    0    0    0    0    0    0    5    0    0    0    0    0    0    0    0    0    0    0    5    5    0    0    0    5    0    0    0\", #orig_WebNLG\n",
        "        #\"0    0    0    0    0    0    1    0    0    0    0    0    0    0    0    1    0    1    0    0    0    1    0    0    1    0    0    0    0    0    0    1    0    0    0    1    1    0    0    0    0    0    0    0    0    1    0    0    0    0    0    0    0    1    1    0    0    0    0    0    0    0    0    0    0    0    0    0    1    0    0    0    0    0    0    0    0    0    1    0    0    0    0    0    0    0    0    0    0    0    1    0    0    0    1    0    0    0    0    1    0    0    0    0    0    0    0    0    0    0    0    0    0    0    0    0    0    0    0    0    0    0    0    0    0    0    0    0    0    0    0    0    0    0    0    0    0    0    0    0    0    0    0    0    0    0    0    0    0    0    0    0    0    0    0    0    0    0    0    0    2    0    0    0    0    0    0    0    0    0    0    0    0    0    0    0    0    0    0    0    0    0    0    0    0    2    0    0    0    0    0    0    0    0    0    0    0    0    2    0    0    3    0    0    0    0    0    0    0    0    0    0    3    0    0    0    3    0    0    3    0    0    3    0    0    3    0    3    0    0    0    0    0    0    3    0    0    0    0    0    3    3    0    0    3    0    3    3    0    0    0    0    0    0    0    3    0    0    0    3    3    0    0    0    0    0    0    3    0    3    3    0    3    0    0    0    0    0    0    0    3    0    0    0    3    0    0    3    0    0    0    3    0    3    0    3    0    3    0    0    4    0    4    0    0    4    0    0    4    0    4    0    0    4    4    0    0    0    0    0    4    0    0    4    0    0    0    0    4    0    4    0    0    0    0    0    0    0    4    0    0    0    4    4    0    0    0    0    4    4    4    4    0    0    0    0    4    0    4    0    0    0    0    0    0    0    0    0    0    0    0    0    0    0    0    4    0    0    0    0    0    0    0    4    0    0    4    0    0    4    0    0    0    0    0    0    0    4    0    0    0    0    0    5    5    0    0    5    0    5    0    0    0    0    0    0    0    0    5    0    0    0    0    0    0    0    5    0    0    0    0    0    0    5    0    0    0    0    0    5    0    0    0    0    0    0    0    0    0    0    0    0    5    0    0    0    0    0    0    0    0    0    5    0    5    5    5    0    0    0    0    5    0    0    5    0    0    0    0    5    0    0    5    0    0    0    0    0    0    0    0    0    5    0    0    0    5    0    0    0\", #OD+ZK_WebNLG\n",
        "        \"0    0    0    0    0    0    0    0    0    0    0    0    0    0    0    0    0    0    0    0    0    0    0    0    0    0    0    0    0    0    0    0    0    0    0    0    0    0    0    0    1    0    0    0    0    0    0    0    0    0    0    0    0    0    0    0    1    0    0    0    0    0    0    1    0    0    0    0    0    0    1    0    0    0    0    0    0    1    0    0    0    0    0    0    0    0    0    0    0    0    0    0    0    0    0    0    0    0    0    0    0    0    0    0    0    0    0    0    0    0    0    0    0    0    0    0    0    0    2    0    2    0    0    0    0    0    0    0    0    0    0    0    2    2    0    2    2    2    0    0    0    0    0    0    0    0    0    0    0    0    0    0    0    0    0    0    0    0    0    0    0    0    0    0    0    0    0    0    0    0    0    0    0    0    0    2    0    0    0    0    0    0    0    0    0    0    0    0    0    0    0    0    0    0    2    0    0    2    0    0    0    0    0    0    0    0    3    3    0    0    0    0    0    0    0    0    0    0    0    0    0    0    0    0    0    0    0    0    0    0    3    0    0    0    0    0    0    0    3    0    0    3    3    0    3    0    0    0    0    0    0    0    0    0    3    0    0    0    0    0    0    0    0    0    0    0    0    0    0    0    3    0    0    0    3    0    0    0    0    0    0    0    0    0    0    0    0    0    0    0    0    0    0    0    0    0    0    0    0    0    0    4    0    0    0    4    0    0    0    0    4    0    4    4    4    0    4    0    0    0    4    0    0    4    0    0    0    0    4    0    0    4    4    0    0    0    0    0    0    0    4    0    0    4    0    0    4    0    4    0    0    4    0    0    0    4    4    0    4    0    0    0    0    0    0    0    0    0    0    0    4    0    0    0    0    4    0    4    0    0    0    4    0    0    4    0    4    4    0    0    4    0    0    0    0    0    0    0    0    0    0    0    0    0    5    0    0    5    5    0    0    0    0    0    0    0    0    0    0    5    0    0    0    0    0    0    0    0    0    0    5    0    0    0    0    0    0    0    0    0    0    5    5    0    5    0    0    0    0    0    0    0    0    0    0    0    0    0    0    5    0    0    0    0    0    0    0    0    0    0    0    0    5    0    0    0    0    0    0    0    5    0    0    0    0    0    0    0    0    0    0    5    0    0    0    0    0    0    0    0\", #AB+TF_WebNLG\n",
        "    )\n",
        "\n",
        "    missing = '*' # indicator for missing values\n",
        "    array = [d.split() for d in data]  # convert to 2D list of string items\n",
        "    #print(array)\n",
        "    \n",
        "    print(\"nominal metric: %.3f\" % krippendorff_alpha(array, nominal_metric, missing_items=missing))\n",
        "    print(\"interval metric: %.3f\" % krippendorff_alpha(array, interval_metric, missing_items=missing))"
      ],
      "metadata": {
        "colab": {
          "base_uri": "https://localhost:8080/"
        },
        "id": "PKp6TMBxaufI",
        "outputId": "0ff3db83-cc8d-4f21-b647-f927e523f215"
      },
      "execution_count": 54,
      "outputs": [
        {
          "output_type": "stream",
          "name": "stdout",
          "text": [
            "nominal metric: 0.114\n",
            "interval metric: 0.206\n"
          ]
        }
      ]
    },
    {
      "cell_type": "code",
      "source": [
        "# Calculation of krippendorf's alpha - WebNLG OD + ZK vs AB + TCF\n",
        "\n",
        "if __name__ == '__main__': \n",
        "    \n",
        "\n",
        "\n",
        "    # WebNLG data for krippendorff's alpha calculation\n",
        "\n",
        "    data = (\n",
        "        #\"1    0    0    0    0    0    1    0    0    0    0    0    1    0    0    1    1    0    1    0    0    1    1    0    1    1    0    0    0    0    0    0    0    1    0    0    0    1    0    0    0    0    0    0    0    1    0    0    0    0    0    0    0    0    0    0    0    0    0    0    0    0    1    0    1    0    0    0    0    0    0    0    0    0    0    0    1    1    0    0    0    1    0    0    0    0    1    0    1    0    1    0    0    0    1    0    0    0    0    0    0    0    0    0    0    0    0    0    0    0    0    0    0    0    0    0    0    2    0    0    2    0    0    0    0    0    0    0    0    0    0    0    0    0    0    0    0    0    0    2    0    0    0    0    0    0    0    0    0    0    0    0    2    0    0    0    0    0    0    0    0    0    0    0    0    0    0    0    0    0    0    0    0    0    0    0    0    0    2    0    0    0    2    0    0    0    0    0    0    0    0    0    0    0    0    2    0    0    0    0    0    3    0    0    0    0    0    0    0    0    0    0    0    3    0    0    0    0    0    3    0    0    0    3    0    0    3    0    3    0    0    0    0    0    0    3    0    0    0    0    3    0    0    0    0    0    0    0    0    0    0    0    0    3    0    0    0    3    0    0    0    3    0    0    0    0    0    0    0    0    0    0    0    0    0    0    0    0    0    0    3    0    0    3    0    3    0    0    0    0    0    0    0    0    0    0    0    0    0    0    0    0    0    0    0    4    0    0    0    0    4    0    0    0    0    0    0    0    0    0    0    0    0    0    0    0    0    0    0    4    0    0    0    0    4    0    0    0    0    0    0    0    0    0    0    0    0    0    0    0    0    0    0    0    0    0    0    0    0    0    0    0    0    0    0    0    0    0    0    0    0    0    0    0    0    4    0    0    0    0    0    0    0    0    0    0    0    0    0    0    0    0    0    4    0    0    0    4    4    0    0    0    0    5    5    0    0    5    5    5    0    5    0    0    0    0    0    0    0    0    0    0    0    0    0    0    0    0    0    0    5    0    0    0    0    0    0    0    0    0    0    0    0    0    0    0    0    5    0    0    0    0    0    0    0    0    0    0    0    5    0    0    0    0    0    0    0    5    0    0    0    0    5    0    0    0    0    0    0    5    0    0    0    0    0    0    0    0    0    0    0    5    5    0    0    0    5    0    0    0\", #orig_WebNLG\n",
        "        \"0    0    0    0    0    0    1    0    0    0    0    0    0    0    0    1    0    1    0    0    0    1    0    0    1    0    0    0    0    0    0    1    0    0    0    1    1    0    0    0    0    0    0    0    0    1    0    0    0    0    0    0    0    1    1    0    0    0    0    0    0    0    0    0    0    0    0    0    1    0    0    0    0    0    0    0    0    0    1    0    0    0    0    0    0    0    0    0    0    0    1    0    0    0    1    0    0    0    0    1    0    0    0    0    0    0    0    0    0    0    0    0    0    0    0    0    0    0    0    0    0    0    0    0    0    0    0    0    0    0    0    0    0    0    0    0    0    0    0    0    0    0    0    0    0    0    0    0    0    0    0    0    0    0    0    0    0    0    0    0    2    0    0    0    0    0    0    0    0    0    0    0    0    0    0    0    0    0    0    0    0    0    0    0    0    2    0    0    0    0    0    0    0    0    0    0    0    0    2    0    0    3    0    0    0    0    0    0    0    0    0    0    3    0    0    0    3    0    0    3    0    0    3    0    0    3    0    3    0    0    0    0    0    0    3    0    0    0    0    0    3    3    0    0    3    0    3    3    0    0    0    0    0    0    0    3    0    0    0    3    3    0    0    0    0    0    0    3    0    3    3    0    3    0    0    0    0    0    0    0    3    0    0    0    3    0    0    3    0    0    0    3    0    3    0    3    0    3    0    0    4    0    4    0    0    4    0    0    4    0    4    0    0    4    4    0    0    0    0    0    4    0    0    4    0    0    0    0    4    0    4    0    0    0    0    0    0    0    4    0    0    0    4    4    0    0    0    0    4    4    4    4    0    0    0    0    4    0    4    0    0    0    0    0    0    0    0    0    0    0    0    0    0    0    0    4    0    0    0    0    0    0    0    4    0    0    4    0    0    4    0    0    0    0    0    0    0    4    0    0    0    0    0    5    5    0    0    5    0    5    0    0    0    0    0    0    0    0    5    0    0    0    0    0    0    0    5    0    0    0    0    0    0    5    0    0    0    0    0    5    0    0    0    0    0    0    0    0    0    0    0    0    5    0    0    0    0    0    0    0    0    0    5    0    5    5    5    0    0    0    0    5    0    0    5    0    0    0    0    5    0    0    5    0    0    0    0    0    0    0    0    0    5    0    0    0    5    0    0    0\", #OD+ZK_WebNLG\n",
        "        \"0    0    0    0    0    0    0    0    0    0    0    0    0    0    0    0    0    0    0    0    0    0    0    0    0    0    0    0    0    0    0    0    0    0    0    0    0    0    0    0    1    0    0    0    0    0    0    0    0    0    0    0    0    0    0    0    1    0    0    0    0    0    0    1    0    0    0    0    0    0    1    0    0    0    0    0    0    1    0    0    0    0    0    0    0    0    0    0    0    0    0    0    0    0    0    0    0    0    0    0    0    0    0    0    0    0    0    0    0    0    0    0    0    0    0    0    0    0    2    0    2    0    0    0    0    0    0    0    0    0    0    0    2    2    0    2    2    2    0    0    0    0    0    0    0    0    0    0    0    0    0    0    0    0    0    0    0    0    0    0    0    0    0    0    0    0    0    0    0    0    0    0    0    0    0    2    0    0    0    0    0    0    0    0    0    0    0    0    0    0    0    0    0    0    2    0    0    2    0    0    0    0    0    0    0    0    3    3    0    0    0    0    0    0    0    0    0    0    0    0    0    0    0    0    0    0    0    0    0    0    3    0    0    0    0    0    0    0    3    0    0    3    3    0    3    0    0    0    0    0    0    0    0    0    3    0    0    0    0    0    0    0    0    0    0    0    0    0    0    0    3    0    0    0    3    0    0    0    0    0    0    0    0    0    0    0    0    0    0    0    0    0    0    0    0    0    0    0    0    0    0    4    0    0    0    4    0    0    0    0    4    0    4    4    4    0    4    0    0    0    4    0    0    4    0    0    0    0    4    0    0    4    4    0    0    0    0    0    0    0    4    0    0    4    0    0    4    0    4    0    0    4    0    0    0    4    4    0    4    0    0    0    0    0    0    0    0    0    0    0    4    0    0    0    0    4    0    4    0    0    0    4    0    0    4    0    4    4    0    0    4    0    0    0    0    0    0    0    0    0    0    0    0    0    5    0    0    5    5    0    0    0    0    0    0    0    0    0    0    5    0    0    0    0    0    0    0    0    0    0    5    0    0    0    0    0    0    0    0    0    0    5    5    0    5    0    0    0    0    0    0    0    0    0    0    0    0    0    0    5    0    0    0    0    0    0    0    0    0    0    0    0    5    0    0    0    0    0    0    0    5    0    0    0    0    0    0    0    0    0    0    5    0    0    0    0    0    0    0    0\", #AB+TF_WebNLG\n",
        "    )\n",
        "\n",
        "    missing = '*' # indicator for missing values\n",
        "    array = [d.split() for d in data]  # convert to 2D list of string items\n",
        "    #print(array)\n",
        "    \n",
        "    print(\"nominal metric: %.3f\" % krippendorff_alpha(array, nominal_metric, missing_items=missing))\n",
        "    print(\"interval metric: %.3f\" % krippendorff_alpha(array, interval_metric, missing_items=missing))"
      ],
      "metadata": {
        "colab": {
          "base_uri": "https://localhost:8080/"
        },
        "id": "X7znY0Z7a1mY",
        "outputId": "485d8d60-e664-4d30-e6c6-dc8618a8a3f8"
      },
      "execution_count": 55,
      "outputs": [
        {
          "output_type": "stream",
          "name": "stdout",
          "text": [
            "nominal metric: 0.166\n",
            "interval metric: 0.187\n"
          ]
        }
      ]
    },
    {
      "cell_type": "code",
      "source": [
        "# code copied from small_sample_cv.ipynb at https://github.com/asbelz/coeff-var\n",
        "\n",
        "# Calculation of CV* for E2E.\n",
        "\n",
        "# -*- coding: utf-8 -*-\n",
        "\"\"\"This code computes the coefficient of variation (CV) and some other stats for small samples (indicated by the * added to CV) \n",
        "for a given set of measurements which are assumed to be for the same or similar object, using the same measurand. \n",
        "Stats are adjusted for small sample size. Paper ref: Belz, Popovic & Mille (2022) Quantified Reproducibility Assessment of NLP Results,\n",
        "ACL'22.\n",
        "\n",
        "In this self-contained version, the set of measurements on which CV is computed is assigned to the variable set_of_set_of_measurements\n",
        "(see examples in code below).\n",
        "\n",
        "The reproducibility stats reported in the output are: \n",
        "* the unbiased coefficient of variation\n",
        "* the sample mean\n",
        "* the unbiased sample standard deviation with 95% confidence intervals, estimated on the basis of the standard error of the unbiassed sample variance\n",
        "* the sample size\n",
        "* the percentage of measured valued within two standard deviations\n",
        "* the percentage of measured valued within one standard deviation\n",
        "\n",
        "Example narrative output:\n",
        "\n",
        "The unbiased coefficient of variation is 1.5616560359100269 \\\n",
        "for a mean of 85.58285714285714 , \\\n",
        "unbiased sample standard deviation of 1.2904233075765223 with 95\\% CI (0.4514829817654973, 2.1293636333875474) ,\\\n",
        "and a sample size of 7 . \\\n",
        "100.0 % of measured values fall within two standard deviations. \\\n",
        "71.429 % of measured values fall within one standard deviation. \n",
        "\n",
        "NOTE:\n",
        "* CV assumes all measurements are positive; if they're not, shift measurement scale to start at 0\n",
        "* for fair comparison across studies, measurements on a scale that doesn't start at 0 need to be shifted to a scale that does start at 0 \n",
        "\n",
        "KNOWN ISSUES:\n",
        "\n",
        "none\n",
        "\"\"\"\n",
        "\n",
        "import math\n",
        "import numpy as np\n",
        "from scipy.stats import t\n",
        "\n",
        "# measurements from Belz et al. (2022)\n",
        "# --- Table 4: BLEU scores for 7 NTS_def repros ---\n",
        "# set_of_set_of_measurements = [[84.51, 84.50, 87.46, 85.60, 84.20, 86.61, 86.20]] # 7, NTS_def, BLEU\n",
        "# --- Table 4: SARI scores for 5 NTS_def repros ---\n",
        "#set_of_set_of_measurements = [[30.65, 30.65, 29.13, 30.65, 29.96]] # 5, NTS_def, SARI \n",
        "# --- Table 4: BLEU scores for 6 NTS-w2v_def repros ---\n",
        "#set_of_set_of_measurements = [[87.50, 80.75, 89.36, 88.10, 89.64, 88.80]] # 6, NTS-w2v_def, BLEU\n",
        "# --- Table 4: SARI scores for 4 NTS_w2v_def repros ---\n",
        "#set_of_set_of_measurements = [[31.11, 30.28, 31.11, 29.12]] # 4, NTS-w2v_def, SARI\n",
        "# --- Table 5: blue highlights (i.e. subsets of BLEU scores from above where outputs were reused, not regenerated) ---\n",
        "#set_of_set_of_measurements = [[84.51, 84.50, 85.60, 84.20]] # 7, NTS_def, BLEU\n",
        "#set_of_set_of_measurements = [[87.50, 89.36, 88.10]] # 6, NTS-w2v_def, BLEU\n",
        "# --- Section 4.1, fourth paragraph: subset of scores where outputs were regenerated and Nisioi's BLEU script was used\n",
        "#set_of_set_of_measurements = [[84.51, 87.46, 86.61], # 7, NTS_def, BLEU\n",
        "#                              [30.65, 29.13, 29.96], # 5, NTS_def, SARI \n",
        "#                              [87.50, 80.75, 89.64], # 6, NTS-w2v_def, BLEU\n",
        "#                              [31.11, 30.28, 29.12]] # 4, NTS-w2v_def, SARI\n",
        "# --- Table 6: wF1 scores for 11 system variants ---\n",
        "#set_of_set_of_measurements = [[0.428, 0.493, 0.426, 0.574, 0.579, 0.590, 0.574, 0.600],\n",
        "#                              [0.721, 0.603, 0.605, 0.606, 0.720, 0.732, 0.606, 0.740],\n",
        "#                              [0.719, 0.604, 0.607, 0.607, 0.723, 0.733, 0.607, 0.736],\n",
        "#                              [0.726, 0.681, 0.680, 0.680, 0.722, 0.728, 0.680, 0.732],\n",
        "#                              [0.724, 0.680, 0.680, 0.681, 0.725, 0.729, 0.681, 0.731],\n",
        "#                              [0.703, 0.660, 0.650, 0.651, 0.699, 0.711, 0.651, 0.710],\n",
        "#                              [0.693, 0.661, 0.652, 0.653, 0.699, 0.712, 0.653, 0.716],\n",
        "#                              [0.449, 0.600, 0.433, 0.597, 0.635, 0.646, 0.597, 0.698],\n",
        "#                              [0.471, 0.647, 0.447, 0.647, 0.696, 0.711, 0.647, 0.726],\n",
        "#                              [0.693, 0.658, 0.683, 0.668, 0.692, 0.689, 0.659, 0.391],\n",
        "#                              [0.689, 0.662, 0.681, 0.659, 0.681, 0.684, 0.657, 0.401]]\n",
        "\n",
        "# E2E - Table 1 - orig, OD + ZK\n",
        "\n",
        "'''set_of_set_of_measurements = [[34,\t36],\n",
        "                             [45,\t48],\n",
        "                             [18,\t16],\n",
        "                             [5,\t6],\n",
        "                             [30,\t33],\n",
        "                             [10,\t13],\n",
        "                             [8,\t5],\n",
        "                             [16,\t11],\n",
        "                             [17,\t20]]'''\n",
        "\n",
        "# E2E - Table 1 - orig, AB + TCF\n",
        "\n",
        "'''set_of_set_of_measurements = [[34,\t41],\n",
        "                             [45,\t44],\n",
        "                             [18,\t15],\n",
        "                             [5,\t6],\n",
        "                             [30,\t28],\n",
        "                             [10,\t8],\n",
        "                             [8,\t22],\n",
        "                             [16,\t24],\n",
        "                             [17,\t8]]'''\n",
        "\n",
        "# E2E - Table 2 - all\n",
        "\n",
        "set_of_set_of_measurements = [[34,\t41,\t31,\t37,\t50],\n",
        "                             [45,\t45,\t53,\t41,\t47],\n",
        "                             [18,\t14,\t15,\t22,\t3],\n",
        "                             [5,\t10,\t5,\t2,\t8],\n",
        "                             [30,\t31,\t39,\t42,\t9],\n",
        "                             [10,\t11,\t10,\t8,\t1],\n",
        "                             [8,\t8,\t3,\t38,\t0],\n",
        "                             [16,\t10,\t14,\t42,\t6],\n",
        "                             [17,\t15,\t24,\t19,\t4]]\n",
        "\n",
        "\n",
        "\n",
        "\n",
        "for set_of_measurements in set_of_set_of_measurements:\n",
        "  if len(set_of_measurements) < 2:\n",
        "    print(set_of_measurements, \": set of measurements is smaller than 2\")\n",
        "    break\n",
        "\n",
        "  sample_mean = np.mean(set_of_measurements)\n",
        "  if sample_mean <= 0:\n",
        "    print(set_of_measurements, \": mean is 0 or negative\")\n",
        "    break\n",
        "\n",
        "  sample_size = len(set_of_measurements)\n",
        "  degrees_of_freedom = sample_size-1\n",
        "  sum_of_squared_differences = np.sum(np.square(sample_mean-set_of_measurements))\n",
        "\n",
        "  # unbiassed sample variance s^2\n",
        "  unbiassed_sample_variance = sum_of_squared_differences/degrees_of_freedom\n",
        "  # corrected sample standard deviation s\n",
        "  corrected_sample_standard_deviation = np.sqrt(unbiassed_sample_variance)\n",
        "  # Gamma(N/2)\n",
        "  gamma_N_over_2 = math.gamma(sample_size/2)\n",
        "  # Gamma((N-1)/2)\n",
        "  gamma_df_over_2 = math.gamma(degrees_of_freedom/2)\n",
        "  # c_4(N)\n",
        "  c_4_N = math.sqrt(2/degrees_of_freedom)*gamma_N_over_2/gamma_df_over_2\n",
        "  # unbiassed sample std dev s/c_4\n",
        "  unbiassed_sample_std_dev_s_c_4 = corrected_sample_standard_deviation/c_4_N\n",
        "  # standard error of the unbiassed sample variance (assumes normally distributed population)\n",
        "  standard_error_of_unbiassed_sample_variance = unbiassed_sample_variance*np.sqrt(2/degrees_of_freedom)\n",
        "  # estimated std err of std dev based on std err of unbiassed sample variance\n",
        "  est_SE_of_SD_based_on_SE_of_unbiassed_sample_variance = standard_error_of_unbiassed_sample_variance/(2*unbiassed_sample_std_dev_s_c_4)\n",
        "\n",
        "  # COEFFICIENT OF VARIATION CV\n",
        "  coefficient_of_variation = (unbiassed_sample_std_dev_s_c_4/sample_mean)*100\n",
        "  # SMALL SAMPLE CORRECTED COEFFICIENT OF VARIATION CV*\n",
        "  small_sample_coefficient_of_variation = (1+(1/(4*sample_size)))*coefficient_of_variation\n",
        "\n",
        "  # compute percentage of measured values within 1 and 2 standard deviations from the mean\n",
        "  # initialise counts\n",
        "  count_within_1_sd = 0\n",
        "  count_within_2_sd = 0\n",
        "  # for each measured value\n",
        "  for m in set_of_measurements:\n",
        "    # if it's within two std devs, increment count_within_2_sd\n",
        "    if np.abs(m-sample_mean) < 2*unbiassed_sample_std_dev_s_c_4:\n",
        "      count_within_2_sd += 1\n",
        "      #if it's also within one std devs, increment count_within_1_sd\n",
        "      if np.abs(m-sample_mean) < unbiassed_sample_std_dev_s_c_4:\n",
        "        count_within_1_sd += 1\n",
        "\n",
        "  # report results as described in code description above\n",
        "  print(\"The unbiased coefficient of variation is\",small_sample_coefficient_of_variation)\n",
        "  print(\"for a mean of\",sample_mean,\", \")\n",
        "  print(\"unbiased sample standard deviation of\",unbiassed_sample_std_dev_s_c_4,\", with 95\\% CI\",t.interval(0.95, degrees_of_freedom, loc=unbiassed_sample_std_dev_s_c_4, scale=est_SE_of_SD_based_on_SE_of_unbiassed_sample_variance),\",\")\n",
        "  print(\"and a sample size of\",sample_size,\".\")\n",
        "  print(count_within_2_sd/sample_size*100,\"% of measured values fall within two standard deviations.\")\n",
        "  print(round(count_within_1_sd/sample_size*100, 3),\"% of measured values fall within one standard deviation.\", )\n",
        "\n"
      ],
      "metadata": {
        "colab": {
          "base_uri": "https://localhost:8080/"
        },
        "id": "tXDQobYVcyAE",
        "outputId": "52770305-f093-4e08-e3c1-1cff93a8f7b7"
      },
      "execution_count": 56,
      "outputs": [
        {
          "output_type": "stream",
          "name": "stdout",
          "text": [
            "The unbiased coefficient of variation is 21.324590853646352\n",
            "for a mean of 38.6 , \n",
            "unbiased sample standard deviation of 7.839325780483326 , with 95\\% CI (1.040009955796486, 14.638641605170164) ,\n",
            "and a sample size of 5 .\n",
            "100.0 % of measured values fall within two standard deviations.\n",
            "80.0 % of measured values fall within one standard deviation.\n",
            "The unbiased coefficient of variation is 10.59440902392319\n",
            "for a mean of 46.2 , \n",
            "unbiased sample standard deviation of 4.661539970526204 , with 95\\% CI (0.6184266497458424, 8.704653291306565) ,\n",
            "and a sample size of 5 .\n",
            "100.0 % of measured values fall within two standard deviations.\n",
            "60.0 % of measured values fall within one standard deviation.\n",
            "The unbiased coefficient of variation is 55.01607426713517\n",
            "for a mean of 14.4 , \n",
            "unbiased sample standard deviation of 7.545061613778536 , with 95\\% CI (1.0009711823640774, 14.089152045192995) ,\n",
            "and a sample size of 5 .\n",
            "100.0 % of measured values fall within two standard deviations.\n",
            "60.0 % of measured values fall within one standard deviation.\n",
            "The unbiased coefficient of variation is 57.382392192602566\n",
            "for a mean of 6.0 , \n",
            "unbiased sample standard deviation of 3.2789938395772893 , with 95\\% CI (0.4350101441945018, 6.122977534960077) ,\n",
            "and a sample size of 5 .\n",
            "100.0 % of measured values fall within two standard deviations.\n",
            "60.0 % of measured values fall within one standard deviation.\n",
            "The unbiased coefficient of variation is 47.756111127337704\n",
            "for a mean of 30.2 , \n",
            "unbiased sample standard deviation of 13.735567200434271 , with 95\\% CI (1.8222391870136754, 25.648895213854868) ,\n",
            "and a sample size of 5 .\n",
            "100.0 % of measured values fall within two standard deviations.\n",
            "80.0 % of measured values fall within one standard deviation.\n",
            "The unbiased coefficient of variation is 56.71789212625002\n",
            "for a mean of 8.0 , \n",
            "unbiased sample standard deviation of 4.321363209619049 , with 95\\% CI (0.5732968480280949, 8.069429571210003) ,\n",
            "and a sample size of 5 .\n",
            "100.0 % of measured values fall within two standard deviations.\n",
            "80.0 % of measured values fall within one standard deviation.\n",
            "The unbiased coefficient of variation is 149.50466143214362\n",
            "for a mean of 11.4 , \n",
            "unbiased sample standard deviation of 16.231934669775594 , with 95\\% CI (2.153421624654559, 30.31044771489663) ,\n",
            "and a sample size of 5 .\n",
            "100.0 % of measured values fall within two standard deviations.\n",
            "80.0 % of measured values fall within one standard deviation.\n",
            "The unbiased coefficient of variation is 89.93676945699357\n",
            "for a mean of 17.6 , \n",
            "unbiased sample standard deviation of 15.075115642315113 , with 95\\% CI (1.999951372326361, 28.150279912303866) ,\n",
            "and a sample size of 5 .\n",
            "100.0 % of measured values fall within two standard deviations.\n",
            "80.0 % of measured values fall within one standard deviation.\n",
            "The unbiased coefficient of variation is 52.28831819478616\n",
            "for a mean of 15.8 , \n",
            "unbiased sample standard deviation of 7.868146928358298 , with 95\\% CI (1.0438335347070717, 14.692460322009524) ,\n",
            "and a sample size of 5 .\n",
            "100.0 % of measured values fall within two standard deviations.\n",
            "60.0 % of measured values fall within one standard deviation.\n"
          ]
        }
      ]
    },
    {
      "cell_type": "code",
      "source": [
        "# code copied from small_sample_cv.ipynb at https://github.com/asbelz/coeff-var\n",
        "\n",
        "# Calculation of CV* for WebNLG.\n",
        "\n",
        "\n",
        "# WebNLG - Table 1 - orig, OD + ZK\n",
        "\n",
        "'''set_of_set_of_measurements = [[51,\t38],\n",
        "                            [42,\t40],\n",
        "                            [7,\t15],\n",
        "                            [22,\t16],\n",
        "                            [7,\t3],\n",
        "                            [14,\t27],\n",
        "                            [8,\t25],\n",
        "                            [15,\t19]]'''\n",
        "\n",
        "# WebNLG - Table 1 - orig, AB + TCF\n",
        "\n",
        "'''set_of_set_of_measurements = [[51,\t59],\n",
        "                            [42,\t35],\n",
        "                            [7,\t6],\n",
        "                            [22,\t5],\n",
        "                            [7,\t10],\n",
        "                            [14,\t10],\n",
        "                            [8,\t28],\n",
        "                            [15,\t12]]'''\n",
        "\n",
        "# WebNLG - Table 2 - all\n",
        "\n",
        "set_of_set_of_measurements = [[51,\t43,\t34,\t55,\t48],\n",
        "                            [42,\t44,\t30,\t37,\t48],\n",
        "                            [7,\t12,\t13,\t8,\t4],\n",
        "                            [22,\t18,\t16,\t7,\t2],\n",
        "                            [7,\t1,\t3,\t26,\t0],\n",
        "                            [14,\t27,\t15,\t9,\t6],\n",
        "                            [8,\t31,\t17,\t48,\t0],\n",
        "                            [15,\t16,\t25,\t26,\t1]]\n",
        "                                                        \n",
        "\n",
        "\n",
        "for set_of_measurements in set_of_set_of_measurements:\n",
        "  if len(set_of_measurements) < 2:\n",
        "    print(set_of_measurements, \": set of measurements is smaller than 2\")\n",
        "    break\n",
        "\n",
        "  sample_mean = np.mean(set_of_measurements)\n",
        "  if sample_mean <= 0:\n",
        "    print(set_of_measurements, \": mean is 0 or negative\")\n",
        "    break\n",
        "\n",
        "  sample_size = len(set_of_measurements)\n",
        "  degrees_of_freedom = sample_size-1\n",
        "  sum_of_squared_differences = np.sum(np.square(sample_mean-set_of_measurements))\n",
        "\n",
        "  # unbiassed sample variance s^2\n",
        "  unbiassed_sample_variance = sum_of_squared_differences/degrees_of_freedom\n",
        "  # corrected sample standard deviation s\n",
        "  corrected_sample_standard_deviation = np.sqrt(unbiassed_sample_variance)\n",
        "  # Gamma(N/2)\n",
        "  gamma_N_over_2 = math.gamma(sample_size/2)\n",
        "  # Gamma((N-1)/2)\n",
        "  gamma_df_over_2 = math.gamma(degrees_of_freedom/2)\n",
        "  # c_4(N)\n",
        "  c_4_N = math.sqrt(2/degrees_of_freedom)*gamma_N_over_2/gamma_df_over_2\n",
        "  # unbiassed sample std dev s/c_4\n",
        "  unbiassed_sample_std_dev_s_c_4 = corrected_sample_standard_deviation/c_4_N\n",
        "  # standard error of the unbiassed sample variance (assumes normally distributed population)\n",
        "  standard_error_of_unbiassed_sample_variance = unbiassed_sample_variance*np.sqrt(2/degrees_of_freedom)\n",
        "  # estimated std err of std dev based on std err of unbiassed sample variance\n",
        "  est_SE_of_SD_based_on_SE_of_unbiassed_sample_variance = standard_error_of_unbiassed_sample_variance/(2*unbiassed_sample_std_dev_s_c_4)\n",
        "\n",
        "  # COEFFICIENT OF VARIATION CV\n",
        "  coefficient_of_variation = (unbiassed_sample_std_dev_s_c_4/sample_mean)*100\n",
        "  # SMALL SAMPLE CORRECTED COEFFICIENT OF VARIATION CV*\n",
        "  small_sample_coefficient_of_variation = (1+(1/(4*sample_size)))*coefficient_of_variation\n",
        "\n",
        "  # compute percentage of measured values within 1 and 2 standard deviations from the mean\n",
        "  # initialise counts\n",
        "  count_within_1_sd = 0\n",
        "  count_within_2_sd = 0\n",
        "  # for each measured value\n",
        "  for m in set_of_measurements:\n",
        "    # if it's within two std devs, increment count_within_2_sd\n",
        "    if np.abs(m-sample_mean) < 2*unbiassed_sample_std_dev_s_c_4:\n",
        "      count_within_2_sd += 1\n",
        "      #if it's also within one std devs, increment count_within_1_sd\n",
        "      if np.abs(m-sample_mean) < unbiassed_sample_std_dev_s_c_4:\n",
        "        count_within_1_sd += 1\n",
        "\n",
        "  # report results as described in code description above\n",
        "  print(\"The unbiased coefficient of variation is\",small_sample_coefficient_of_variation)\n",
        "  print(\"for a mean of\",sample_mean,\", \")\n",
        "  print(\"unbiased sample standard deviation of\",unbiassed_sample_std_dev_s_c_4,\", with 95\\% CI\",t.interval(0.95, degrees_of_freedom, loc=unbiassed_sample_std_dev_s_c_4, scale=est_SE_of_SD_based_on_SE_of_unbiassed_sample_variance),\",\")\n",
        "  print(\"and a sample size of\",sample_size,\".\")\n",
        "  print(count_within_2_sd/sample_size*100,\"% of measured values fall within two standard deviations.\")\n",
        "  print(round(count_within_1_sd/sample_size*100, 3),\"% of measured values fall within one standard deviation.\", )"
      ],
      "metadata": {
        "colab": {
          "base_uri": "https://localhost:8080/"
        },
        "id": "MwQD-SlWi2mY",
        "outputId": "d188ce0c-e697-49ed-e43e-a76c9c712a3c"
      },
      "execution_count": 57,
      "outputs": [
        {
          "output_type": "stream",
          "name": "stdout",
          "text": [
            "The unbiased coefficient of variation is 19.597867016429742\n",
            "for a mean of 46.2 , \n",
            "unbiased sample standard deviation of 8.623061487229085 , with 95\\% CI (1.1439848332990952, 16.102138141159074) ,\n",
            "and a sample size of 5 .\n",
            "100.0 % of measured values fall within two standard deviations.\n",
            "60.0 % of measured values fall within one standard deviation.\n",
            "The unbiased coefficient of variation is 19.291480717687847\n",
            "for a mean of 40.2 , \n",
            "unbiased sample standard deviation of 7.385881189057632 , with 95\\% CI (0.9798533935244027, 13.791908984590862) ,\n",
            "and a sample size of 5 .\n",
            "100.0 % of measured values fall within two standard deviations.\n",
            "60.0 % of measured values fall within one standard deviation.\n",
            "The unbiased coefficient of variation is 46.983537053764096\n",
            "for a mean of 8.8 , \n",
            "unbiased sample standard deviation of 3.937667867363086 , with 95\\% CI (0.5223936215118035, 7.352942113214368) ,\n",
            "and a sample size of 5 .\n",
            "100.0 % of measured values fall within two standard deviations.\n",
            "60.0 % of measured values fall within one standard deviation.\n",
            "The unbiased coefficient of variation is 70.85641922670274\n",
            "for a mean of 13.0 , \n",
            "unbiased sample standard deviation of 8.772699523306054 , with 95\\% CI (1.1638366740879196, 16.381562372524186) ,\n",
            "and a sample size of 5 .\n",
            "100.0 % of measured values fall within two standard deviations.\n",
            "60.0 % of measured values fall within one standard deviation.\n",
            "The unbiased coefficient of variation is 162.08806252839335\n",
            "for a mean of 7.4 , \n",
            "unbiased sample standard deviation of 11.423349168667722 , with 95\\% CI (1.5154870707798889, 21.331211266555556) ,\n",
            "and a sample size of 5 .\n",
            "100.0 % of measured values fall within two standard deviations.\n",
            "80.0 % of measured values fall within one standard deviation.\n",
            "The unbiased coefficient of variation is 63.274962014738186\n",
            "for a mean of 14.2 , \n",
            "unbiased sample standard deviation of 8.557185339136021 , with 95\\% CI (1.135245325363747, 15.979125352908294) ,\n",
            "and a sample size of 5 .\n",
            "100.0 % of measured values fall within two standard deviations.\n",
            "80.0 % of measured values fall within one standard deviation.\n",
            "The unbiased coefficient of variation is 102.4180287636981\n",
            "for a mean of 20.8 , \n",
            "unbiased sample standard deviation of 20.288523793189718 , with 95\\% CI (2.6915920226025207, 37.885455563776915) ,\n",
            "and a sample size of 5 .\n",
            "100.0 % of measured values fall within two standard deviations.\n",
            "60.0 % of measured values fall within one standard deviation.\n",
            "The unbiased coefficient of variation is 67.7274511650456\n",
            "for a mean of 16.6 , \n",
            "unbiased sample standard deviation of 10.707387517521493 , with 95\\% CI (1.4205034885164363, 19.994271546526548) ,\n",
            "and a sample size of 5 .\n",
            "100.0 % of measured values fall within two standard deviations.\n",
            "80.0 % of measured values fall within one standard deviation.\n"
          ]
        }
      ]
    }
  ],
  "metadata": {
    "interpreter": {
      "hash": "50292dbb1f747f7151d445135d392af3138fb3c65386d17d9510cb605222b10b"
    },
    "kernelspec": {
      "display_name": "Python 3.9.8 64-bit",
      "name": "python3"
    },
    "language_info": {
      "name": "python",
      "version": ""
    },
    "orig_nbformat": 4,
    "colab": {
      "name": "compute-scores.ipynb",
      "provenance": [],
      "collapsed_sections": []
    }
  },
  "nbformat": 4,
  "nbformat_minor": 0
}